{
 "cells": [
  {
   "cell_type": "code",
   "execution_count": 1,
   "metadata": {},
   "outputs": [],
   "source": [
    "import pandas as pd\n",
    "import matplotlib.pyplot as plt\n",
    "import seaborn as sns\n",
    "import numpy as np\n",
    "\n",
    "from datetime import datetime, timedelta\n",
    "\n",
    "from sklearn.preprocessing import MinMaxScaler, StandardScaler\n",
    "from sklearn.linear_model import LinearRegression, LogisticRegression\n",
    "from sklearn.model_selection import GroupKFold, cross_val_score, StratifiedKFold, KFold\n",
    "from sklearn.metrics import roc_auc_score, make_scorer\n",
    "\n",
    "from sklearn.linear_model import LinearRegression, Ridge, SGDRegressor\n",
    "from sklearn.ensemble import RandomForestRegressor\n",
    "from catboost import CatBoostRegressor\n",
    "\n",
    "import xgboost as xgb\n",
    "\n",
    "%matplotlib inline"
   ]
  },
  {
   "cell_type": "code",
   "execution_count": 2,
   "metadata": {},
   "outputs": [],
   "source": [
    "def RMSLE(y_true, y_pred, log=True):\n",
    "#     y_true, y_pred = np.exp(y_true), np.exp(y_pred)\n",
    "    assert len(y_true) == len(y_pred)\n",
    "    \n",
    "#     return np.sqrt(np.sum(np.square(np.log(y_true + 1) - np.log(y_pred + 1))) / y_true.shape[0])\n",
    "    if log:\n",
    "        return np.sqrt(np.sum(np.square(y_true - y_pred) / y_true.shape[0]))\n",
    "    else:\n",
    "        return np.sqrt(np.sum(np.square(np.log(y_true + 1) - np.log(y_pred + 1))) / y_true.shape[0])"
   ]
  },
  {
   "cell_type": "code",
   "execution_count": 3,
   "metadata": {},
   "outputs": [],
   "source": [
    "RMSLEScorer = make_scorer(RMSLE, greater_is_better=True)"
   ]
  },
  {
   "cell_type": "code",
   "execution_count": 4,
   "metadata": {},
   "outputs": [],
   "source": [
    "train = pd.read_csv(\"Data/train.csv\") \n",
    "test = pd.read_csv(\"Data/test.csv\")"
   ]
  },
  {
   "cell_type": "code",
   "execution_count": 5,
   "metadata": {},
   "outputs": [],
   "source": [
    "train[\"TRDATETIME\"] = pd.to_datetime(train.TRDATETIME, format='%d%b%y:%H:%M:%S')\n",
    "test[\"TRDATETIME\"] = pd.to_datetime(test.TRDATETIME, format='%d%b%y:%H:%M:%S')"
   ]
  },
  {
   "cell_type": "code",
   "execution_count": 6,
   "metadata": {},
   "outputs": [],
   "source": [
    "train[\"log_target_sum\"] = np.log(train.target_sum + 1)"
   ]
  },
  {
   "cell_type": "code",
   "execution_count": 7,
   "metadata": {},
   "outputs": [
    {
     "data": {
      "text/html": [
       "<div>\n",
       "<style>\n",
       "    .dataframe thead tr:only-child th {\n",
       "        text-align: right;\n",
       "    }\n",
       "\n",
       "    .dataframe thead th {\n",
       "        text-align: left;\n",
       "    }\n",
       "\n",
       "    .dataframe tbody tr th {\n",
       "        vertical-align: top;\n",
       "    }\n",
       "</style>\n",
       "<table border=\"1\" class=\"dataframe\">\n",
       "  <thead>\n",
       "    <tr style=\"text-align: right;\">\n",
       "      <th></th>\n",
       "      <th>PERIOD</th>\n",
       "      <th>cl_id</th>\n",
       "      <th>MCC</th>\n",
       "      <th>channel_type</th>\n",
       "      <th>currency</th>\n",
       "      <th>TRDATETIME</th>\n",
       "      <th>amount</th>\n",
       "      <th>trx_category</th>\n",
       "      <th>target_flag</th>\n",
       "      <th>target_sum</th>\n",
       "      <th>log_target_sum</th>\n",
       "    </tr>\n",
       "  </thead>\n",
       "  <tbody>\n",
       "    <tr>\n",
       "      <th>0</th>\n",
       "      <td>01/10/2017</td>\n",
       "      <td>0</td>\n",
       "      <td>5200</td>\n",
       "      <td>NaN</td>\n",
       "      <td>810</td>\n",
       "      <td>2017-10-21 00:00:00</td>\n",
       "      <td>5023.0</td>\n",
       "      <td>POS</td>\n",
       "      <td>0</td>\n",
       "      <td>0.0</td>\n",
       "      <td>0.0</td>\n",
       "    </tr>\n",
       "    <tr>\n",
       "      <th>1</th>\n",
       "      <td>01/10/2017</td>\n",
       "      <td>0</td>\n",
       "      <td>6011</td>\n",
       "      <td>NaN</td>\n",
       "      <td>810</td>\n",
       "      <td>2017-10-12 12:24:07</td>\n",
       "      <td>20000.0</td>\n",
       "      <td>DEPOSIT</td>\n",
       "      <td>0</td>\n",
       "      <td>0.0</td>\n",
       "      <td>0.0</td>\n",
       "    </tr>\n",
       "    <tr>\n",
       "      <th>2</th>\n",
       "      <td>01/12/2017</td>\n",
       "      <td>0</td>\n",
       "      <td>5921</td>\n",
       "      <td>NaN</td>\n",
       "      <td>810</td>\n",
       "      <td>2017-12-05 00:00:00</td>\n",
       "      <td>767.0</td>\n",
       "      <td>POS</td>\n",
       "      <td>0</td>\n",
       "      <td>0.0</td>\n",
       "      <td>0.0</td>\n",
       "    </tr>\n",
       "    <tr>\n",
       "      <th>3</th>\n",
       "      <td>01/10/2017</td>\n",
       "      <td>0</td>\n",
       "      <td>5411</td>\n",
       "      <td>NaN</td>\n",
       "      <td>810</td>\n",
       "      <td>2017-10-21 00:00:00</td>\n",
       "      <td>2031.0</td>\n",
       "      <td>POS</td>\n",
       "      <td>0</td>\n",
       "      <td>0.0</td>\n",
       "      <td>0.0</td>\n",
       "    </tr>\n",
       "    <tr>\n",
       "      <th>4</th>\n",
       "      <td>01/10/2017</td>\n",
       "      <td>0</td>\n",
       "      <td>6012</td>\n",
       "      <td>NaN</td>\n",
       "      <td>810</td>\n",
       "      <td>2017-10-24 13:14:24</td>\n",
       "      <td>36562.0</td>\n",
       "      <td>C2C_OUT</td>\n",
       "      <td>0</td>\n",
       "      <td>0.0</td>\n",
       "      <td>0.0</td>\n",
       "    </tr>\n",
       "  </tbody>\n",
       "</table>\n",
       "</div>"
      ],
      "text/plain": [
       "       PERIOD  cl_id   MCC channel_type  currency          TRDATETIME  \\\n",
       "0  01/10/2017      0  5200          NaN       810 2017-10-21 00:00:00   \n",
       "1  01/10/2017      0  6011          NaN       810 2017-10-12 12:24:07   \n",
       "2  01/12/2017      0  5921          NaN       810 2017-12-05 00:00:00   \n",
       "3  01/10/2017      0  5411          NaN       810 2017-10-21 00:00:00   \n",
       "4  01/10/2017      0  6012          NaN       810 2017-10-24 13:14:24   \n",
       "\n",
       "    amount trx_category  target_flag  target_sum  log_target_sum  \n",
       "0   5023.0          POS            0         0.0             0.0  \n",
       "1  20000.0      DEPOSIT            0         0.0             0.0  \n",
       "2    767.0          POS            0         0.0             0.0  \n",
       "3   2031.0          POS            0         0.0             0.0  \n",
       "4  36562.0      C2C_OUT            0         0.0             0.0  "
      ]
     },
     "execution_count": 7,
     "metadata": {},
     "output_type": "execute_result"
    }
   ],
   "source": [
    "train.head()"
   ]
  },
  {
   "cell_type": "code",
   "execution_count": 8,
   "metadata": {},
   "outputs": [
    {
     "data": {
      "text/html": [
       "<div>\n",
       "<style>\n",
       "    .dataframe thead tr:only-child th {\n",
       "        text-align: right;\n",
       "    }\n",
       "\n",
       "    .dataframe thead th {\n",
       "        text-align: left;\n",
       "    }\n",
       "\n",
       "    .dataframe tbody tr th {\n",
       "        vertical-align: top;\n",
       "    }\n",
       "</style>\n",
       "<table border=\"1\" class=\"dataframe\">\n",
       "  <thead>\n",
       "    <tr style=\"text-align: right;\">\n",
       "      <th></th>\n",
       "      <th>cl_id</th>\n",
       "      <th>MCC</th>\n",
       "      <th>currency</th>\n",
       "      <th>amount</th>\n",
       "      <th>target_flag</th>\n",
       "      <th>target_sum</th>\n",
       "      <th>log_target_sum</th>\n",
       "    </tr>\n",
       "  </thead>\n",
       "  <tbody>\n",
       "    <tr>\n",
       "      <th>cl_id</th>\n",
       "      <td>1.000000</td>\n",
       "      <td>-0.004789</td>\n",
       "      <td>0.000630</td>\n",
       "      <td>0.002446</td>\n",
       "      <td>-0.410436</td>\n",
       "      <td>-0.075423</td>\n",
       "      <td>-0.464289</td>\n",
       "    </tr>\n",
       "    <tr>\n",
       "      <th>MCC</th>\n",
       "      <td>-0.004789</td>\n",
       "      <td>1.000000</td>\n",
       "      <td>0.000547</td>\n",
       "      <td>0.019986</td>\n",
       "      <td>0.013118</td>\n",
       "      <td>-0.017400</td>\n",
       "      <td>0.015659</td>\n",
       "    </tr>\n",
       "    <tr>\n",
       "      <th>currency</th>\n",
       "      <td>0.000630</td>\n",
       "      <td>0.000547</td>\n",
       "      <td>1.000000</td>\n",
       "      <td>-0.040777</td>\n",
       "      <td>-0.013644</td>\n",
       "      <td>-0.002662</td>\n",
       "      <td>-0.010651</td>\n",
       "    </tr>\n",
       "    <tr>\n",
       "      <th>amount</th>\n",
       "      <td>0.002446</td>\n",
       "      <td>0.019986</td>\n",
       "      <td>-0.040777</td>\n",
       "      <td>1.000000</td>\n",
       "      <td>-0.003336</td>\n",
       "      <td>-0.001133</td>\n",
       "      <td>-0.002134</td>\n",
       "    </tr>\n",
       "    <tr>\n",
       "      <th>target_flag</th>\n",
       "      <td>-0.410436</td>\n",
       "      <td>0.013118</td>\n",
       "      <td>-0.013644</td>\n",
       "      <td>-0.003336</td>\n",
       "      <td>1.000000</td>\n",
       "      <td>0.080548</td>\n",
       "      <td>0.949304</td>\n",
       "    </tr>\n",
       "    <tr>\n",
       "      <th>target_sum</th>\n",
       "      <td>-0.075423</td>\n",
       "      <td>-0.017400</td>\n",
       "      <td>-0.002662</td>\n",
       "      <td>-0.001133</td>\n",
       "      <td>0.080548</td>\n",
       "      <td>1.000000</td>\n",
       "      <td>0.143404</td>\n",
       "    </tr>\n",
       "    <tr>\n",
       "      <th>log_target_sum</th>\n",
       "      <td>-0.464289</td>\n",
       "      <td>0.015659</td>\n",
       "      <td>-0.010651</td>\n",
       "      <td>-0.002134</td>\n",
       "      <td>0.949304</td>\n",
       "      <td>0.143404</td>\n",
       "      <td>1.000000</td>\n",
       "    </tr>\n",
       "  </tbody>\n",
       "</table>\n",
       "</div>"
      ],
      "text/plain": [
       "                   cl_id       MCC  currency    amount  target_flag  \\\n",
       "cl_id           1.000000 -0.004789  0.000630  0.002446    -0.410436   \n",
       "MCC            -0.004789  1.000000  0.000547  0.019986     0.013118   \n",
       "currency        0.000630  0.000547  1.000000 -0.040777    -0.013644   \n",
       "amount          0.002446  0.019986 -0.040777  1.000000    -0.003336   \n",
       "target_flag    -0.410436  0.013118 -0.013644 -0.003336     1.000000   \n",
       "target_sum     -0.075423 -0.017400 -0.002662 -0.001133     0.080548   \n",
       "log_target_sum -0.464289  0.015659 -0.010651 -0.002134     0.949304   \n",
       "\n",
       "                target_sum  log_target_sum  \n",
       "cl_id            -0.075423       -0.464289  \n",
       "MCC              -0.017400        0.015659  \n",
       "currency         -0.002662       -0.010651  \n",
       "amount           -0.001133       -0.002134  \n",
       "target_flag       0.080548        0.949304  \n",
       "target_sum        1.000000        0.143404  \n",
       "log_target_sum    0.143404        1.000000  "
      ]
     },
     "execution_count": 8,
     "metadata": {},
     "output_type": "execute_result"
    }
   ],
   "source": [
    "train.corr()"
   ]
  },
  {
   "cell_type": "code",
   "execution_count": 9,
   "metadata": {},
   "outputs": [],
   "source": [
    "k = train[\"cl_id\"].unique()\n",
    "v = train.groupby(\"cl_id\")[\"target_flag\"].value_counts().values\n",
    "d = {k[i] : v[i] for i in range(k.shape[0])}\n",
    "train[\"use_count\"] = train[\"cl_id\"].apply(lambda x: d[x])"
   ]
  },
  {
   "cell_type": "code",
   "execution_count": 10,
   "metadata": {},
   "outputs": [],
   "source": [
    "k = test[\"cl_id\"].unique()\n",
    "v = test.groupby(\"cl_id\")[\"cl_id\"].value_counts().values\n",
    "d = {k[i] : v[i] for i in range(k.shape[0])}\n",
    "test[\"use_count\"] = test[\"cl_id\"].apply(lambda x: d[x])"
   ]
  },
  {
   "cell_type": "code",
   "execution_count": 13,
   "metadata": {},
   "outputs": [],
   "source": [
    "delta_use = train[train.trx_category == \"POS\"].sort_values(\"TRDATETIME\").groupby('cl_id')[\"TRDATETIME\"].apply(lambda x: x[1:].append([x[:1]+timedelta(weeks=4*3)]).reset_index(drop=True) - x.reset_index(drop=True))\n",
    "delta_use = delta_use.apply(lambda x: x.days if x.days >=0 else 0)"
   ]
  },
  {
   "cell_type": "code",
   "execution_count": 11,
   "metadata": {},
   "outputs": [],
   "source": [
    "new_train = pd.DataFrame()\n",
    "new_test = pd.DataFrame()"
   ]
  },
  {
   "cell_type": "code",
   "execution_count": 12,
   "metadata": {},
   "outputs": [],
   "source": [
    "m = dict(train.groupby(\"channel_type\")[\"target_flag\"].agg(\"mean\"))"
   ]
  },
  {
   "cell_type": "code",
   "execution_count": 71,
   "metadata": {},
   "outputs": [],
   "source": [
    "m = dict(train.groupby(\"MCC\")[\"target_flag\"].agg(\"mean\"))\n",
    "train[\"MCC_encoded\"] = train.MCC.map(m)"
   ]
  },
  {
   "cell_type": "code",
   "execution_count": 14,
   "metadata": {},
   "outputs": [],
   "source": [
    "m = {name: i+1 for i, name in enumerate(train.channel_type.unique())}\n",
    "# m = dict(train.groupby(\"channel_type\")[\"target_flag\"].agg(\"mean\"))\n",
    "train[\"encoded_channel_type\"] = train.channel_type.map(m)"
   ]
  },
  {
   "cell_type": "code",
   "execution_count": 16,
   "metadata": {},
   "outputs": [],
   "source": [
    "category_sign = {\n",
    "   'POS' : -1,\n",
    "   'DEPOSIT' : 1,\n",
    "   'C2C_OUT' : -1,\n",
    "   'WD_ATM_ROS' : -1,\n",
    "   'BACK_TRX' : 1,\n",
    "   'WD_ATM_PARTNER' : -1,\n",
    "   'WD_ATM_OTHER' : -1,\n",
    "   'C2C_IN' : 1,\n",
    "   'CAT' : -1,\n",
    "   'CASH_ADV' : -1,\n",
    "}"
   ]
  },
  {
   "cell_type": "code",
   "execution_count": 17,
   "metadata": {},
   "outputs": [],
   "source": [
    "train[\"signed_amount\"] = train.trx_category.map(category_sign) * train.amount"
   ]
  },
  {
   "cell_type": "code",
   "execution_count": 18,
   "metadata": {},
   "outputs": [],
   "source": [
    "channel_type_sign = {\n",
    "    \"type1\" : 1,\n",
    "    \"type2\" : 1,\n",
    "    \"type3\" : 1,\n",
    "    \"type4\" : -1,\n",
    "    \"type5\" : -1\n",
    "}"
   ]
  },
  {
   "cell_type": "code",
   "execution_count": 19,
   "metadata": {},
   "outputs": [],
   "source": [
    "new_train = pd.DataFrame()"
   ]
  },
  {
   "cell_type": "code",
   "execution_count": 20,
   "metadata": {},
   "outputs": [],
   "source": [
    "channel_type = train.groupby(\"cl_id\").channel_type.first().reset_index(drop=True)"
   ]
  },
  {
   "cell_type": "code",
   "execution_count": 17,
   "metadata": {},
   "outputs": [
    {
     "name": "stderr",
     "output_type": "stream",
     "text": [
      "/usr/local/lib/python3.5/dist-packages/ipykernel_launcher.py:2: UserWarning: Boolean Series key will be reindexed to match DataFrame index.\n",
      "  \n"
     ]
    },
    {
     "ename": "ValueError",
     "evalue": "zero-size array to reduction operation minimum which has no identity",
     "output_type": "error",
     "traceback": [
      "\u001b[0;31m---------------------------------------------------------------------------\u001b[0m",
      "\u001b[0;31mValueError\u001b[0m                                Traceback (most recent call last)",
      "\u001b[0;32m<ipython-input-17-a3f08f283539>\u001b[0m in \u001b[0;36m<module>\u001b[0;34m()\u001b[0m\n\u001b[1;32m      1\u001b[0m \u001b[0mplt\u001b[0m\u001b[0;34m.\u001b[0m\u001b[0mfigure\u001b[0m\u001b[0;34m(\u001b[0m\u001b[0mfigsize\u001b[0m\u001b[0;34m=\u001b[0m\u001b[0;34m(\u001b[0m\u001b[0;36m15\u001b[0m\u001b[0;34m,\u001b[0m \u001b[0;36m10\u001b[0m\u001b[0;34m)\u001b[0m\u001b[0;34m)\u001b[0m\u001b[0;34m\u001b[0m\u001b[0m\n\u001b[0;32m----> 2\u001b[0;31m \u001b[0msns\u001b[0m\u001b[0;34m.\u001b[0m\u001b[0mheatmap\u001b[0m\u001b[0;34m(\u001b[0m\u001b[0mnew_train\u001b[0m\u001b[0;34m[\u001b[0m\u001b[0mchannel_type\u001b[0m \u001b[0;34m==\u001b[0m \u001b[0;34m\"type1\"\u001b[0m\u001b[0;34m]\u001b[0m\u001b[0;34m.\u001b[0m\u001b[0mcorr\u001b[0m\u001b[0;34m(\u001b[0m\u001b[0;34m)\u001b[0m\u001b[0;34m,\u001b[0m \u001b[0mannot\u001b[0m\u001b[0;34m=\u001b[0m\u001b[0;32mTrue\u001b[0m\u001b[0;34m)\u001b[0m\u001b[0;34m\u001b[0m\u001b[0m\n\u001b[0m",
      "\u001b[0;32m/usr/local/lib/python3.5/dist-packages/seaborn/matrix.py\u001b[0m in \u001b[0;36mheatmap\u001b[0;34m(data, vmin, vmax, cmap, center, robust, annot, fmt, annot_kws, linewidths, linecolor, cbar, cbar_kws, cbar_ax, square, xticklabels, yticklabels, mask, ax, **kwargs)\u001b[0m\n\u001b[1;32m    515\u001b[0m     plotter = _HeatMapper(data, vmin, vmax, cmap, center, robust, annot, fmt,\n\u001b[1;32m    516\u001b[0m                           \u001b[0mannot_kws\u001b[0m\u001b[0;34m,\u001b[0m \u001b[0mcbar\u001b[0m\u001b[0;34m,\u001b[0m \u001b[0mcbar_kws\u001b[0m\u001b[0;34m,\u001b[0m \u001b[0mxticklabels\u001b[0m\u001b[0;34m,\u001b[0m\u001b[0;34m\u001b[0m\u001b[0m\n\u001b[0;32m--> 517\u001b[0;31m                           yticklabels, mask)\n\u001b[0m\u001b[1;32m    518\u001b[0m \u001b[0;34m\u001b[0m\u001b[0m\n\u001b[1;32m    519\u001b[0m     \u001b[0;31m# Add the pcolormesh kwargs here\u001b[0m\u001b[0;34m\u001b[0m\u001b[0;34m\u001b[0m\u001b[0m\n",
      "\u001b[0;32m/usr/local/lib/python3.5/dist-packages/seaborn/matrix.py\u001b[0m in \u001b[0;36m__init__\u001b[0;34m(self, data, vmin, vmax, cmap, center, robust, annot, fmt, annot_kws, cbar, cbar_kws, xticklabels, yticklabels, mask)\u001b[0m\n\u001b[1;32m    166\u001b[0m         \u001b[0;31m# Determine good default values for the colormapping\u001b[0m\u001b[0;34m\u001b[0m\u001b[0;34m\u001b[0m\u001b[0m\n\u001b[1;32m    167\u001b[0m         self._determine_cmap_params(plot_data, vmin, vmax,\n\u001b[0;32m--> 168\u001b[0;31m                                     cmap, center, robust)\n\u001b[0m\u001b[1;32m    169\u001b[0m \u001b[0;34m\u001b[0m\u001b[0m\n\u001b[1;32m    170\u001b[0m         \u001b[0;31m# Sort out the annotations\u001b[0m\u001b[0;34m\u001b[0m\u001b[0;34m\u001b[0m\u001b[0m\n",
      "\u001b[0;32m/usr/local/lib/python3.5/dist-packages/seaborn/matrix.py\u001b[0m in \u001b[0;36m_determine_cmap_params\u001b[0;34m(self, plot_data, vmin, vmax, cmap, center, robust)\u001b[0m\n\u001b[1;32m    205\u001b[0m         \u001b[0mcalc_data\u001b[0m \u001b[0;34m=\u001b[0m \u001b[0mplot_data\u001b[0m\u001b[0;34m.\u001b[0m\u001b[0mdata\u001b[0m\u001b[0;34m[\u001b[0m\u001b[0;34m~\u001b[0m\u001b[0mnp\u001b[0m\u001b[0;34m.\u001b[0m\u001b[0misnan\u001b[0m\u001b[0;34m(\u001b[0m\u001b[0mplot_data\u001b[0m\u001b[0;34m.\u001b[0m\u001b[0mdata\u001b[0m\u001b[0;34m)\u001b[0m\u001b[0;34m]\u001b[0m\u001b[0;34m\u001b[0m\u001b[0m\n\u001b[1;32m    206\u001b[0m         \u001b[0;32mif\u001b[0m \u001b[0mvmin\u001b[0m \u001b[0;32mis\u001b[0m \u001b[0;32mNone\u001b[0m\u001b[0;34m:\u001b[0m\u001b[0;34m\u001b[0m\u001b[0m\n\u001b[0;32m--> 207\u001b[0;31m             \u001b[0mvmin\u001b[0m \u001b[0;34m=\u001b[0m \u001b[0mnp\u001b[0m\u001b[0;34m.\u001b[0m\u001b[0mpercentile\u001b[0m\u001b[0;34m(\u001b[0m\u001b[0mcalc_data\u001b[0m\u001b[0;34m,\u001b[0m \u001b[0;36m2\u001b[0m\u001b[0;34m)\u001b[0m \u001b[0;32mif\u001b[0m \u001b[0mrobust\u001b[0m \u001b[0;32melse\u001b[0m \u001b[0mcalc_data\u001b[0m\u001b[0;34m.\u001b[0m\u001b[0mmin\u001b[0m\u001b[0;34m(\u001b[0m\u001b[0;34m)\u001b[0m\u001b[0;34m\u001b[0m\u001b[0m\n\u001b[0m\u001b[1;32m    208\u001b[0m         \u001b[0;32mif\u001b[0m \u001b[0mvmax\u001b[0m \u001b[0;32mis\u001b[0m \u001b[0;32mNone\u001b[0m\u001b[0;34m:\u001b[0m\u001b[0;34m\u001b[0m\u001b[0m\n\u001b[1;32m    209\u001b[0m             \u001b[0mvmax\u001b[0m \u001b[0;34m=\u001b[0m \u001b[0mnp\u001b[0m\u001b[0;34m.\u001b[0m\u001b[0mpercentile\u001b[0m\u001b[0;34m(\u001b[0m\u001b[0mcalc_data\u001b[0m\u001b[0;34m,\u001b[0m \u001b[0;36m98\u001b[0m\u001b[0;34m)\u001b[0m \u001b[0;32mif\u001b[0m \u001b[0mrobust\u001b[0m \u001b[0;32melse\u001b[0m \u001b[0mcalc_data\u001b[0m\u001b[0;34m.\u001b[0m\u001b[0mmax\u001b[0m\u001b[0;34m(\u001b[0m\u001b[0;34m)\u001b[0m\u001b[0;34m\u001b[0m\u001b[0m\n",
      "\u001b[0;32m~/.local/lib/python3.5/site-packages/numpy/core/_methods.py\u001b[0m in \u001b[0;36m_amin\u001b[0;34m(a, axis, out, keepdims)\u001b[0m\n\u001b[1;32m     27\u001b[0m \u001b[0;34m\u001b[0m\u001b[0m\n\u001b[1;32m     28\u001b[0m \u001b[0;32mdef\u001b[0m \u001b[0m_amin\u001b[0m\u001b[0;34m(\u001b[0m\u001b[0ma\u001b[0m\u001b[0;34m,\u001b[0m \u001b[0maxis\u001b[0m\u001b[0;34m=\u001b[0m\u001b[0;32mNone\u001b[0m\u001b[0;34m,\u001b[0m \u001b[0mout\u001b[0m\u001b[0;34m=\u001b[0m\u001b[0;32mNone\u001b[0m\u001b[0;34m,\u001b[0m \u001b[0mkeepdims\u001b[0m\u001b[0;34m=\u001b[0m\u001b[0;32mFalse\u001b[0m\u001b[0;34m)\u001b[0m\u001b[0;34m:\u001b[0m\u001b[0;34m\u001b[0m\u001b[0m\n\u001b[0;32m---> 29\u001b[0;31m     \u001b[0;32mreturn\u001b[0m \u001b[0mumr_minimum\u001b[0m\u001b[0;34m(\u001b[0m\u001b[0ma\u001b[0m\u001b[0;34m,\u001b[0m \u001b[0maxis\u001b[0m\u001b[0;34m,\u001b[0m \u001b[0;32mNone\u001b[0m\u001b[0;34m,\u001b[0m \u001b[0mout\u001b[0m\u001b[0;34m,\u001b[0m \u001b[0mkeepdims\u001b[0m\u001b[0;34m)\u001b[0m\u001b[0;34m\u001b[0m\u001b[0m\n\u001b[0m\u001b[1;32m     30\u001b[0m \u001b[0;34m\u001b[0m\u001b[0m\n\u001b[1;32m     31\u001b[0m \u001b[0;32mdef\u001b[0m \u001b[0m_sum\u001b[0m\u001b[0;34m(\u001b[0m\u001b[0ma\u001b[0m\u001b[0;34m,\u001b[0m \u001b[0maxis\u001b[0m\u001b[0;34m=\u001b[0m\u001b[0;32mNone\u001b[0m\u001b[0;34m,\u001b[0m \u001b[0mdtype\u001b[0m\u001b[0;34m=\u001b[0m\u001b[0;32mNone\u001b[0m\u001b[0;34m,\u001b[0m \u001b[0mout\u001b[0m\u001b[0;34m=\u001b[0m\u001b[0;32mNone\u001b[0m\u001b[0;34m,\u001b[0m \u001b[0mkeepdims\u001b[0m\u001b[0;34m=\u001b[0m\u001b[0;32mFalse\u001b[0m\u001b[0;34m)\u001b[0m\u001b[0;34m:\u001b[0m\u001b[0;34m\u001b[0m\u001b[0m\n",
      "\u001b[0;31mValueError\u001b[0m: zero-size array to reduction operation minimum which has no identity"
     ]
    },
    {
     "data": {
      "text/plain": [
       "<Figure size 1080x720 with 0 Axes>"
      ]
     },
     "metadata": {},
     "output_type": "display_data"
    }
   ],
   "source": [
    "plt.figure(figsize=(15, 10))\n",
    "sns.heatmap(new_train[channel_type == \"type1\"].corr(), annot=True)"
   ]
  },
  {
   "cell_type": "code",
   "execution_count": null,
   "metadata": {},
   "outputs": [],
   "source": [
    "plt.figure(figsize=(15, 10))\n",
    "sns.heatmap(new_train[channel_type == \"type2\"].corr(), annot=True)"
   ]
  },
  {
   "cell_type": "code",
   "execution_count": 17,
   "metadata": {},
   "outputs": [],
   "source": [
    "new_train[\"channel_type\"] = train.groupby(\"cl_id\").channel_type.first().reset_index(drop=True).fillna(\"type1\")"
   ]
  },
  {
   "cell_type": "code",
   "execution_count": 308,
   "metadata": {},
   "outputs": [],
   "source": [
    "# # Generate Train set\n",
    "# # new_train = tmp\n",
    "new_train = train[[\"cl_id\", \"amount\", \"trx_category\"]].groupby([\"cl_id\", \"trx_category\"]).agg(\"sum\").unstack().fillna(0)\n",
    "new_test = test[[\"cl_id\", \"amount\", \"trx_category\"]].groupby([\"cl_id\", \"trx_category\"]).agg(\"sum\").unstack().fillna(0).apply(lambda x: np.log(x+1))\n",
    "\n",
    "new_train.columns = new_train.columns.droplevel()\n",
    "new_test.columns = new_test.columns.droplevel()"
   ]
  },
  {
   "cell_type": "code",
   "execution_count": 309,
   "metadata": {},
   "outputs": [],
   "source": [
    "# new_train = new_train.apply(lambda x: np.log(x+1), axis=0)"
   ]
  },
  {
   "cell_type": "code",
   "execution_count": 310,
   "metadata": {},
   "outputs": [],
   "source": [
    "# # Generate Train set\n",
    "# new_train = train.groupby(\"cl_id\")[\"trx_category\"].value_counts().unstack().fillna(0)\n",
    "# new_test = test.groupby(\"cl_id\")[\"trx_category\"].value_counts().unstack().fillna(0)"
   ]
  },
  {
   "cell_type": "code",
   "execution_count": 311,
   "metadata": {},
   "outputs": [],
   "source": [
    "# new_train[\"amount\"] = np.log(train.groupby(\"cl_id\").amount.agg(\"sum\") + 1)"
   ]
  },
  {
   "cell_type": "code",
   "execution_count": 312,
   "metadata": {},
   "outputs": [],
   "source": [
    "# new_train = train.groupby(\"cl_id\")[\"trx_category\"].value_counts().unstack().fillna(0)"
   ]
  },
  {
   "cell_type": "code",
   "execution_count": 313,
   "metadata": {},
   "outputs": [],
   "source": [
    "# new_train = pd.concat((new_train, mcc_group), axis=1)"
   ]
  },
  {
   "cell_type": "code",
   "execution_count": 314,
   "metadata": {},
   "outputs": [],
   "source": [
    "# new_train[\"pred\"] = pred"
   ]
  },
  {
   "cell_type": "code",
   "execution_count": 315,
   "metadata": {},
   "outputs": [],
   "source": [
    "# new_train = pd.concat((new_train, X_new), axis=1)"
   ]
  },
  {
   "cell_type": "code",
   "execution_count": 316,
   "metadata": {},
   "outputs": [],
   "source": [
    "use_time = train[train.trx_category == \"POS\"][[\"cl_id\", \"TRDATETIME\"]].groupby(\"cl_id\").agg([\"min\", \"max\"]).apply(lambda x: x[1] - x[0], axis=1)\n",
    "tmp = use_time.apply(lambda x: x.days)\n",
    "new_train[\"useDays\"] = tmp\n",
    "\n",
    "use_time = test[test.trx_category == \"POS\"][[\"cl_id\", \"TRDATETIME\"]].groupby(\"cl_id\").agg([\"min\", \"max\"]).apply(lambda x: x[1] - x[0], axis=1)\n",
    "tmp = use_time.apply(lambda x: x.days)\n",
    "new_test[\"useDays\"] = tmp"
   ]
  },
  {
   "cell_type": "code",
   "execution_count": 317,
   "metadata": {},
   "outputs": [],
   "source": [
    "# amount\n",
    "# new_train = pd.concat((new_train, train.groupby(\"cl_id\").amount.agg([\"sum\", \"mean\", \"max\", \"min\"])), axis=1)\n",
    "# new_test = pd.concat((new_test, test.groupby(\"cl_id\").amount.agg([\"sum\", \"mean\", \"max\", \"min\"])), axis=1)"
   ]
  },
  {
   "cell_type": "code",
   "execution_count": 318,
   "metadata": {},
   "outputs": [],
   "source": [
    "# tmp = pd.get_dummies(train.groupby(\"cl_id\")[\"channel_type\"].first())\n",
    "# new_train = pd.concat((new_train, tmp.apply(lambda x: x * new_train[\"sum\"], axis=0)), axis=1)\n",
    "\n",
    "# tmp = pd.get_dummies(test.groupby(\"cl_id\")[\"channel_type\"].first())\n",
    "# new_test = pd.concat((new_test, tmp.apply(lambda x: x * new_test[\"sum\"], axis=0)), axis=1)"
   ]
  },
  {
   "cell_type": "code",
   "execution_count": 319,
   "metadata": {},
   "outputs": [],
   "source": [
    "# tmp = train.groupby(\"cl_id\").TRDATETIME.agg([\"min\", \"max\"])\n",
    "\n",
    "# m = tmp.apply(lambda x: x.apply(lambda x: x.month)).rename(columns={\"min\" : \"start_month\", \"max\": \"end_month\"})\n",
    "# new_train = pd.concat((new_train, m), axis=1)\n",
    "\n",
    "# m = tmp.apply(lambda x: x.apply(lambda x: x.day)).rename(columns={\"min\" : \"start_day\", \"max\": \"end_day\"})\n",
    "# new_train = pd.concat((new_train, m), axis=1)"
   ]
  },
  {
   "cell_type": "code",
   "execution_count": 320,
   "metadata": {},
   "outputs": [],
   "source": [
    "# tmp = test.groupby(\"cl_id\").TRDATETIME.agg([\"min\", \"max\"])\n",
    "\n",
    "# m = tmp.apply(lambda x: x.apply(lambda x: x.month)).rename(columns={\"min\" : \"start_month\", \"max\": \"end_month\"})\n",
    "# new_test = pd.concat((new_test, m), axis=1)\n",
    "\n",
    "# m = tmp.apply(lambda x: x.apply(lambda x: x.day)).rename(columns={\"min\" : \"start_day\", \"max\": \"end_day\"})\n",
    "# new_test = pd.concat((new_test, m), axis=1)"
   ]
  },
  {
   "cell_type": "code",
   "execution_count": 321,
   "metadata": {},
   "outputs": [],
   "source": [
    "# tmp = train.groupby(\"cl_id\")[\"MCC\"].value_counts().unstack().fillna(0)\n",
    "# m = tmp[5814] + tmp[6011] + tmp[5999] + tmp[5912] + tmp[5691] + tmp[5812]\n",
    "# new_train = pd.concat((new_train, m), axis=1)\n",
    "\n",
    "# tmp = test.groupby(\"cl_id\")[\"MCC\"].value_counts().unstack().fillna(0)\n",
    "# m = tmp[5814] + tmp[6011] + tmp[5999] + tmp[5912] + tmp[5691] + tmp[5812]\n",
    "# new_test = pd.concat((new_test, m), axis=1)"
   ]
  },
  {
   "cell_type": "code",
   "execution_count": 322,
   "metadata": {},
   "outputs": [],
   "source": [
    "new_train[\"target_flag\"] = train[[\"cl_id\",'target_flag']].groupby('cl_id')[\"target_flag\"].first()\n",
    "new_train[\"log_target_sum\"] = train[[\"cl_id\",'log_target_sum']].groupby('cl_id')[\"log_target_sum\"].first()\n",
    "new_train[\"target_sum\"] = train[[\"cl_id\",'target_sum']].groupby('cl_id')[\"target_sum\"].first()"
   ]
  },
  {
   "cell_type": "code",
   "execution_count": 323,
   "metadata": {},
   "outputs": [],
   "source": [
    "# m = {name: i+1 for i, name in enumerate(train.channel_type.unique())}\n",
    "# new_train[\"channel_type\"] = train.groupby(\"cl_id\").channel_type.first().map(m)"
   ]
  },
  {
   "cell_type": "code",
   "execution_count": 324,
   "metadata": {},
   "outputs": [],
   "source": [
    "# new_train[\"pred\"] = pred"
   ]
  },
  {
   "cell_type": "code",
   "execution_count": 325,
   "metadata": {},
   "outputs": [],
   "source": [
    "# tmp = train.groupby(\"cl_id\")[\"channel_type\"].value_counts().unstack().fillna(0)\n",
    "# new_train = pd.concat((new_train, tmp), axis=1)\n",
    "\n",
    "# new_train[\"channel_type\"] = train.groupby(\"cl_id\")[\"channel_type\"].first()\n",
    "# new_test[\"channel_type\"] = test.groupby(\"cl_id\")[\"channel_type\"].first()\n",
    "\n",
    "# tmp = test.groupby(\"cl_id\")[\"channel_type\"].value_counts().unstack().fillna(0)\n",
    "# new_test = pd.concat((new_test, tmp), axis=1)"
   ]
  },
  {
   "cell_type": "code",
   "execution_count": 326,
   "metadata": {},
   "outputs": [],
   "source": [
    "new_train[\"use_count\"] = train[\"cl_id\"].value_counts()\n",
    "new_train.use_count = np.log(new_train.use_count + 1)\n",
    "\n",
    "new_test[\"use_count\"] = test[\"cl_id\"].value_counts()\n",
    "new_test.use_count = np.log(new_test.use_count + 1)"
   ]
  },
  {
   "cell_type": "code",
   "execution_count": 327,
   "metadata": {},
   "outputs": [],
   "source": [
    "\n",
    "# new_train[\"useDay\"] = np.log(use_time.apply(lambda x: x.days) + 1)\n",
    "\n",
    "# use_time = test[test.trx_category == \"POS\"][[\"cl_id\", \"TRDATETIME\"]].groupby(\"cl_id\").agg([\"min\", \"max\"]).apply(lambda x: x[1] - x[0], axis=1)\n",
    "# new_test[\"useDay\"] = np.log(use_time.apply(lambda x: x.days) + 1)"
   ]
  },
  {
   "cell_type": "code",
   "execution_count": 328,
   "metadata": {},
   "outputs": [],
   "source": [
    "# new_train[\"delta\"] = delta_use.groupby(\"cl_id\").agg(\"mean\")"
   ]
  },
  {
   "cell_type": "code",
   "execution_count": 329,
   "metadata": {},
   "outputs": [],
   "source": [
    "# new_train = pd.concat((new_train, tmp), axis=1)"
   ]
  },
  {
   "cell_type": "code",
   "execution_count": 330,
   "metadata": {},
   "outputs": [],
   "source": [
    "new_train = new_train.reset_index()\n",
    "new_test = new_test.reset_index()"
   ]
  },
  {
   "cell_type": "code",
   "execution_count": 331,
   "metadata": {},
   "outputs": [],
   "source": [
    "# new_train = pd.concat((new_train, X_new), axis=1)"
   ]
  },
  {
   "cell_type": "code",
   "execution_count": 332,
   "metadata": {},
   "outputs": [],
   "source": [
    "test_target = new_test[[\"cl_id\"]]"
   ]
  },
  {
   "cell_type": "code",
   "execution_count": 333,
   "metadata": {},
   "outputs": [],
   "source": [
    "# tmp = pd.get_dummies(train.groupby(\"cl_id\").channel_type.first()).reset_index(drop=True).apply(lambda x: x * new_train.cl_id, axis=0)\n",
    "# new_train = pd.concat((new_train.drop(\"cl_id\", axis=1), tmp), axis=1)\n",
    "\n",
    "# test_target = new_test[[\"cl_id\"]]\n",
    "\n",
    "# tmp = pd.get_dummies(test.groupby(\"cl_id\").channel_type.first()).reset_index(drop=True).apply(lambda x: x * new_test.cl_id, axis=0)\n",
    "# new_test = pd.concat((new_test.drop(\"cl_id\", axis=1), tmp), axis=1)"
   ]
  },
  {
   "cell_type": "code",
   "execution_count": 44,
   "metadata": {},
   "outputs": [],
   "source": [
    "# new_train[\"MCC\"] = mcc_group[6011]"
   ]
  },
  {
   "cell_type": "code",
   "execution_count": 45,
   "metadata": {},
   "outputs": [],
   "source": [
    "# new_train[\"cl_id\"] = train.groupby(\"cl_id\")[\"channel_type\"].first().map(channel_type_sign).fillna(1).reset_index(drop=True) * new_train.cl_id"
   ]
  },
  {
   "cell_type": "code",
   "execution_count": 184,
   "metadata": {},
   "outputs": [],
   "source": [
    "def makeFeatures(dataset, train=False):\n",
    "#     new_train = dataset[[\"cl_id\", \"amount\", \"trx_category\"]].groupby([\"cl_id\", \"trx_category\"]).agg(\"sum\").unstack().fillna(0)\n",
    "#     new_train.columns = new_train.columns.droplevel()\n",
    "    new_train = dataset.groupby(\"cl_id\")[[\"cl_id\"]].first()\n",
    "    \n",
    "#     new_train[\"MCC\"] = dataset.groupby(\"cl_id\")[[\"MCC_encoded\"]].agg(\"mean\")   \n",
    "#     new_train[\"amount\"] = np.log(dataset[dataset.trx_category == \"POS\"].groupby(\"cl_id\").amount.agg(\"sum\") + 1)\n",
    "\n",
    "#     tmp = dataset.groupby([\"cl_id\"])[\"trx_category\"].value_counts().unstack().fillna(0)\n",
    "#     new_train = pd.concat((new_train, tmp), axis=1)\n",
    "    \n",
    "#     tmp = dataset[dataset.trx_category == \"POS\"].groupby([\"cl_id\", \"channel_type\"])[\"signed_amount\"].agg(\"sum\").unstack().fillna(0)\n",
    "#     new_train = pd.concat((new_train, np.log(np.abs(tmp) + 1)), axis=1)\n",
    "    \n",
    "    tmp = dataset[dataset.trx_category == \"POS\"][[\"cl_id\", \"TRDATETIME\"]].groupby(\"cl_id\").agg([\"min\", \"max\"])\n",
    "    tmp.columns = tmp.columns.droplevel()\n",
    "    tmp[\"min\"] = tmp[\"min\"] + timedelta(weeks=4)\n",
    "    tmp[\"max\"] = tmp[\"max\"] - timedelta(weeks=4)\n",
    "\n",
    "        \n",
    "    dmin = dict(tmp[\"min\"])\n",
    "    dmax = dict(tmp[\"max\"])\n",
    "    \n",
    "    tmpmin = dataset[dataset.trx_category == \"POS\"].groupby(\"cl_id\").apply(lambda x: x[x.TRDATETIME <= dmin[x.iloc[0].cl_id]][\"amount\"].sum() )\n",
    "    tmpmax = dataset[dataset.trx_category == \"POS\"].groupby(\"cl_id\").apply(lambda x: x[x.TRDATETIME >= dmax[x.iloc[0].cl_id]][\"amount\"].sum() )\n",
    "    \n",
    "    new_train[\"firstMonthAmount\"] = np.log(tmpmin + 1)\n",
    "    new_train[\"lastMonthAmount\"] = np.log(tmpmax + 1)\n",
    "    \n",
    "    use_time = dataset[dataset.trx_category == \"POS\"][[\"cl_id\", \"TRDATETIME\"]].groupby(\"cl_id\").agg([\"min\", \"max\"]).apply(lambda x: x[1] - x[0], axis=1)\n",
    "    tmp = use_time.apply(lambda x: x.days)\n",
    "    new_train[\"useDays\"] = tmp\n",
    "    \n",
    "    if (train):\n",
    "        new_train[\"target_flag\"] = dataset[[\"cl_id\",'target_flag']].groupby('cl_id')[\"target_flag\"].first()\n",
    "        new_train[\"log_target_sum\"] = dataset[[\"cl_id\",'log_target_sum']].groupby('cl_id')[\"log_target_sum\"].first()\n",
    "#         new_train[\"target_sum\"] = dataset[[\"cl_id\",'target_sum']].groupby('cl_id')[\"target_sum\"].first()\n",
    "    \n",
    "    return new_train.reset_index(drop=True)"
   ]
  },
  {
   "cell_type": "code",
   "execution_count": 185,
   "metadata": {},
   "outputs": [],
   "source": [
    "new_train = makeFeatures(train, train=True)\n",
    "# new_test = makeFeatures(test)"
   ]
  },
  {
   "cell_type": "code",
   "execution_count": 81,
   "metadata": {},
   "outputs": [],
   "source": [
    "# new_train = pd.concat((new_train, amount_dif), axis=1)"
   ]
  },
  {
   "cell_type": "code",
   "execution_count": 192,
   "metadata": {},
   "outputs": [],
   "source": [
    "new_test = makeFeatures(test)\n",
    "test_target = new_test[[\"cl_id\"]]"
   ]
  },
  {
   "cell_type": "code",
   "execution_count": 257,
   "metadata": {},
   "outputs": [
    {
     "data": {
      "text/plain": [
       "<matplotlib.axes._subplots.AxesSubplot at 0x7fa0308705f8>"
      ]
     },
     "execution_count": 257,
     "metadata": {},
     "output_type": "execute_result"
    },
    {
     "data": {
      "image/png": "[encoded data removed]",
      "text/plain": [
       "<Figure size 1080x720 with 2 Axes>"
      ]
     },
     "metadata": {},
     "output_type": "display_data"
    }
   ],
   "source": [
    "plt.figure(figsize=(15, 10))\n",
    "sns.heatmap(new_train.corr(), annot=True)"
   ]
  },
  {
   "cell_type": "code",
   "execution_count": 280,
   "metadata": {},
   "outputs": [],
   "source": [
    "folds = StratifiedKFold(n_splits=4, shuffle=True, random_state=7)\n",
    "xgbClassifier = xgb.XGBClassifier(max_depth=2, n_estimators=200, learning_rate=0.05)"
   ]
  },
  {
   "cell_type": "code",
   "execution_count": 281,
   "metadata": {},
   "outputs": [],
   "source": [
    "X = new_train.drop([\"target_flag\", \"log_target_sum\", \"target_sum\"], axis=1).fillna(0)"
   ]
  },
  {
   "cell_type": "code",
   "execution_count": 282,
   "metadata": {},
   "outputs": [],
   "source": [
    "xgbClassifier = xgb.XGBClassifier(n_estimators=100, max_depth=2, learning_rate=0.1)"
   ]
  },
  {
   "cell_type": "code",
   "execution_count": 283,
   "metadata": {},
   "outputs": [
    {
     "data": {
      "text/plain": [
       "0.8567956665635886"
      ]
     },
     "execution_count": 283,
     "metadata": {},
     "output_type": "execute_result"
    }
   ],
   "source": [
    "cross_val_score(xgbClassifier, X, new_train.target_flag, scoring=\"roc_auc\", cv=folds).mean()"
   ]
  },
  {
   "cell_type": "code",
   "execution_count": 334,
   "metadata": {},
   "outputs": [],
   "source": [
    "from sklearn.ensemble import RandomForestClassifier"
   ]
  },
  {
   "cell_type": "code",
   "execution_count": 355,
   "metadata": {},
   "outputs": [],
   "source": [
    "rf = RandomForestClassifier(n_estimators=100, max_depth=8, random_state=17)"
   ]
  },
  {
   "cell_type": "code",
   "execution_count": 356,
   "metadata": {},
   "outputs": [
    {
     "name": "stdout",
     "output_type": "stream",
     "text": [
      "0.8570370222168677\n",
      "0.006558975361317623\n"
     ]
    }
   ],
   "source": [
    "cv = cross_val_score(rf, X, new_train.target_flag, scoring=\"roc_auc\", cv=folds)\n",
    "print(cv.mean())\n",
    "print(cv.std())"
   ]
  },
  {
   "cell_type": "code",
   "execution_count": 284,
   "metadata": {},
   "outputs": [
    {
     "name": "stdout",
     "output_type": "stream",
     "text": [
      "n_ests = 50, depth = 3, lr = 0.01;\t cv = 0.8435497510872001\n",
      "n_ests = 50, depth = 3, lr = 0.1;\t cv = 0.855347086342749\n",
      "n_ests = 50, depth = 4, lr = 0.1;\t cv = 0.8566840539798846\n"
     ]
    }
   ],
   "source": [
    "n_ests = [50, 100, 150, 200]\n",
    "depths = [3, 4, 5]\n",
    "lrs = [0.01, 0.1]\n",
    "\n",
    "best_cv = 0\n",
    "\n",
    "for n_est in n_ests:\n",
    "    for depth in depths:\n",
    "        for lr in lrs:\n",
    "            xgbClassifier = xgb.XGBClassifier(max_depth=depth, n_estimators=n_est, learning_rate=lr)\n",
    "            cv = cross_val_score(xgbClassifier, X, new_train.target_flag, \n",
    "                                 scoring=\"roc_auc\", cv=folds).mean()\n",
    "\n",
    "            if (cv > best_cv):\n",
    "                best_cv = cv\n",
    "                print(\"n_ests = {}, depth = {}, lr = {};\\t cv = {}\".format(n_est, depth, lr, cv))"
   ]
  },
  {
   "cell_type": "code",
   "execution_count": 357,
   "metadata": {},
   "outputs": [
    {
     "data": {
      "text/plain": [
       "RandomForestClassifier(bootstrap=True, class_weight=None, criterion='gini',\n",
       "            max_depth=8, max_features='auto', max_leaf_nodes=None,\n",
       "            min_impurity_decrease=0.0, min_impurity_split=None,\n",
       "            min_samples_leaf=1, min_samples_split=2,\n",
       "            min_weight_fraction_leaf=0.0, n_estimators=100, n_jobs=1,\n",
       "            oob_score=False, random_state=17, verbose=0, warm_start=False)"
      ]
     },
     "execution_count": 357,
     "metadata": {},
     "output_type": "execute_result"
    }
   ],
   "source": [
    "rf.fit(X, new_train.target_flag)"
   ]
  },
  {
   "cell_type": "code",
   "execution_count": 358,
   "metadata": {},
   "outputs": [
    {
     "name": "stderr",
     "output_type": "stream",
     "text": [
      "/usr/local/lib/python3.5/dist-packages/ipykernel_launcher.py:1: SettingWithCopyWarning: \n",
      "A value is trying to be set on a copy of a slice from a DataFrame.\n",
      "Try using .loc[row_indexer,col_indexer] = value instead\n",
      "\n",
      "See the caveats in the documentation: http://pandas.pydata.org/pandas-docs/stable/indexing.html#indexing-view-versus-copy\n",
      "  \"\"\"Entry point for launching an IPython kernel.\n"
     ]
    }
   ],
   "source": [
    "test_target[\"target_flag\"] = rf.predict_proba(new_test)[:, 1]\n",
    "d = dict(test_target.set_index(\"cl_id\")[\"target_flag\"])\n",
    "\n",
    "test[\"target_flag\"] = test.cl_id.apply(lambda x: d[x])\n",
    "\n",
    "test[[\"cl_id\", \"target_flag\"]].to_csv(\"task1.csv\", index=False)"
   ]
  },
  {
   "cell_type": "code",
   "execution_count": 61,
   "metadata": {},
   "outputs": [
    {
     "data": {
      "text/html": [
       "<div>\n",
       "<style>\n",
       "    .dataframe thead tr:only-child th {\n",
       "        text-align: right;\n",
       "    }\n",
       "\n",
       "    .dataframe thead th {\n",
       "        text-align: left;\n",
       "    }\n",
       "\n",
       "    .dataframe tbody tr th {\n",
       "        vertical-align: top;\n",
       "    }\n",
       "</style>\n",
       "<table border=\"1\" class=\"dataframe\">\n",
       "  <thead>\n",
       "    <tr style=\"text-align: right;\">\n",
       "      <th></th>\n",
       "      <th>cl_id</th>\n",
       "      <th>firstMonthAmount</th>\n",
       "      <th>lastMonthAmount</th>\n",
       "      <th>useDays</th>\n",
       "    </tr>\n",
       "  </thead>\n",
       "  <tbody>\n",
       "    <tr>\n",
       "      <th>0</th>\n",
       "      <td>0.391753</td>\n",
       "      <td>0.158076</td>\n",
       "      <td>0.206186</td>\n",
       "      <td>0.243986</td>\n",
       "    </tr>\n",
       "  </tbody>\n",
       "</table>\n",
       "</div>"
      ],
      "text/plain": [
       "      cl_id  firstMonthAmount  lastMonthAmount   useDays\n",
       "0  0.391753          0.158076         0.206186  0.243986"
      ]
     },
     "execution_count": 61,
     "metadata": {},
     "output_type": "execute_result"
    }
   ],
   "source": [
    "pd.DataFrame(data=xgbClassifier.feature_importances_.reshape(1, -1), columns=X.columns)"
   ]
  },
  {
   "cell_type": "code",
   "execution_count": 159,
   "metadata": {},
   "outputs": [
    {
     "name": "stdout",
     "output_type": "stream",
     "text": [
      "0.8094463172262608\n",
      "0.8259175523649699\n",
      "0.806458087306027\n",
      "0.8274188361369165\n"
     ]
    }
   ],
   "source": [
    "pred = np.zeros(new_train.shape[0])\n",
    "for X_train, X_test in folds.split(X, new_train.target_flag):\n",
    "    xgbClassifier.fit(X.loc[X_train], new_train.loc[X_train].target_flag)\n",
    "    pred[X_test] = xgbClassifier.predict_proba(X.loc[X_test])[:, 1]\n",
    "    print(roc_auc_score(new_train.loc[X_test].target_flag, pred[X_test]))"
   ]
  },
  {
   "cell_type": "code",
   "execution_count": 160,
   "metadata": {},
   "outputs": [],
   "source": [
    "missClass = np.round(pred) != new_train.target_flag"
   ]
  },
  {
   "cell_type": "code",
   "execution_count": 161,
   "metadata": {},
   "outputs": [],
   "source": [
    "new_train[\"missClass\"] = 0\n",
    "new_train.loc[missClass, \"missClass\"] = 1"
   ]
  },
  {
   "cell_type": "code",
   "execution_count": 162,
   "metadata": {},
   "outputs": [],
   "source": [
    "new_train.to_pickle(\"new_train\")"
   ]
  },
  {
   "cell_type": "code",
   "execution_count": 262,
   "metadata": {},
   "outputs": [
    {
     "data": {
      "text/plain": [
       "0    3786\n",
       "1    1214\n",
       "Name: missClass, dtype: int64"
      ]
     },
     "execution_count": 262,
     "metadata": {},
     "output_type": "execute_result"
    }
   ],
   "source": [
    "new_train.missClass.value_counts()"
   ]
  },
  {
   "cell_type": "code",
   "execution_count": 263,
   "metadata": {},
   "outputs": [
    {
     "data": {
      "text/plain": [
       "type1    3321\n",
       "type2    1492\n",
       "type4      58\n",
       "type5      56\n",
       "type3      48\n",
       "Name: channel_type, dtype: int64"
      ]
     },
     "execution_count": 263,
     "metadata": {},
     "output_type": "execute_result"
    }
   ],
   "source": [
    "train.groupby(\"cl_id\").channel_type.first().reset_index(drop=True).value_counts()"
   ]
  },
  {
   "cell_type": "code",
   "execution_count": 264,
   "metadata": {},
   "outputs": [
    {
     "data": {
      "text/plain": [
       "type1    968\n",
       "type2    198\n",
       "type5     16\n",
       "type4     15\n",
       "type3     11\n",
       "Name: channel_type, dtype: int64"
      ]
     },
     "execution_count": 264,
     "metadata": {},
     "output_type": "execute_result"
    }
   ],
   "source": [
    "train.groupby(\"cl_id\").channel_type.first().reset_index(drop=True)[new_train.missClass == 1].value_counts()"
   ]
  },
  {
   "cell_type": "code",
   "execution_count": 495,
   "metadata": {},
   "outputs": [],
   "source": [
    "new_train[\"channel_type\"] = train.groupby(\"cl_id\").encoded_channel_type.first()"
   ]
  },
  {
   "cell_type": "code",
   "execution_count": 173,
   "metadata": {},
   "outputs": [],
   "source": [
    "new_train = pd.read_pickle(\"new_train\")"
   ]
  },
  {
   "cell_type": "code",
   "execution_count": 177,
   "metadata": {},
   "outputs": [
    {
     "data": {
      "text/html": [
       "<div>\n",
       "<style>\n",
       "    .dataframe thead tr:only-child th {\n",
       "        text-align: right;\n",
       "    }\n",
       "\n",
       "    .dataframe thead th {\n",
       "        text-align: left;\n",
       "    }\n",
       "\n",
       "    .dataframe tbody tr th {\n",
       "        vertical-align: top;\n",
       "    }\n",
       "</style>\n",
       "<table border=\"1\" class=\"dataframe\">\n",
       "  <thead>\n",
       "    <tr style=\"text-align: right;\">\n",
       "      <th></th>\n",
       "      <th>PERIOD</th>\n",
       "      <th>cl_id</th>\n",
       "      <th>MCC</th>\n",
       "      <th>channel_type</th>\n",
       "      <th>currency</th>\n",
       "      <th>TRDATETIME</th>\n",
       "      <th>amount</th>\n",
       "      <th>trx_category</th>\n",
       "      <th>target_flag</th>\n",
       "      <th>target_sum</th>\n",
       "      <th>log_target_sum</th>\n",
       "      <th>use_count</th>\n",
       "      <th>encoded_channel_type</th>\n",
       "      <th>MCC_encoded</th>\n",
       "      <th>signed_amount</th>\n",
       "    </tr>\n",
       "  </thead>\n",
       "  <tbody>\n",
       "    <tr>\n",
       "      <th>0</th>\n",
       "      <td>01/10/2017</td>\n",
       "      <td>0</td>\n",
       "      <td>5200</td>\n",
       "      <td>NaN</td>\n",
       "      <td>810</td>\n",
       "      <td>2017-10-21 00:00:00</td>\n",
       "      <td>5023.0</td>\n",
       "      <td>POS</td>\n",
       "      <td>0</td>\n",
       "      <td>0.0</td>\n",
       "      <td>0.0</td>\n",
       "      <td>5</td>\n",
       "      <td>1</td>\n",
       "      <td>0.493353</td>\n",
       "      <td>-5023.0</td>\n",
       "    </tr>\n",
       "    <tr>\n",
       "      <th>1</th>\n",
       "      <td>01/10/2017</td>\n",
       "      <td>0</td>\n",
       "      <td>6011</td>\n",
       "      <td>NaN</td>\n",
       "      <td>810</td>\n",
       "      <td>2017-10-12 12:24:07</td>\n",
       "      <td>20000.0</td>\n",
       "      <td>DEPOSIT</td>\n",
       "      <td>0</td>\n",
       "      <td>0.0</td>\n",
       "      <td>0.0</td>\n",
       "      <td>5</td>\n",
       "      <td>1</td>\n",
       "      <td>0.653231</td>\n",
       "      <td>20000.0</td>\n",
       "    </tr>\n",
       "    <tr>\n",
       "      <th>2</th>\n",
       "      <td>01/12/2017</td>\n",
       "      <td>0</td>\n",
       "      <td>5921</td>\n",
       "      <td>NaN</td>\n",
       "      <td>810</td>\n",
       "      <td>2017-12-05 00:00:00</td>\n",
       "      <td>767.0</td>\n",
       "      <td>POS</td>\n",
       "      <td>0</td>\n",
       "      <td>0.0</td>\n",
       "      <td>0.0</td>\n",
       "      <td>5</td>\n",
       "      <td>1</td>\n",
       "      <td>0.672651</td>\n",
       "      <td>-767.0</td>\n",
       "    </tr>\n",
       "    <tr>\n",
       "      <th>3</th>\n",
       "      <td>01/10/2017</td>\n",
       "      <td>0</td>\n",
       "      <td>5411</td>\n",
       "      <td>NaN</td>\n",
       "      <td>810</td>\n",
       "      <td>2017-10-21 00:00:00</td>\n",
       "      <td>2031.0</td>\n",
       "      <td>POS</td>\n",
       "      <td>0</td>\n",
       "      <td>0.0</td>\n",
       "      <td>0.0</td>\n",
       "      <td>5</td>\n",
       "      <td>1</td>\n",
       "      <td>0.619393</td>\n",
       "      <td>-2031.0</td>\n",
       "    </tr>\n",
       "    <tr>\n",
       "      <th>4</th>\n",
       "      <td>01/10/2017</td>\n",
       "      <td>0</td>\n",
       "      <td>6012</td>\n",
       "      <td>NaN</td>\n",
       "      <td>810</td>\n",
       "      <td>2017-10-24 13:14:24</td>\n",
       "      <td>36562.0</td>\n",
       "      <td>C2C_OUT</td>\n",
       "      <td>0</td>\n",
       "      <td>0.0</td>\n",
       "      <td>0.0</td>\n",
       "      <td>5</td>\n",
       "      <td>1</td>\n",
       "      <td>0.567721</td>\n",
       "      <td>-36562.0</td>\n",
       "    </tr>\n",
       "  </tbody>\n",
       "</table>\n",
       "</div>"
      ],
      "text/plain": [
       "       PERIOD  cl_id   MCC channel_type  currency          TRDATETIME  \\\n",
       "0  01/10/2017      0  5200          NaN       810 2017-10-21 00:00:00   \n",
       "1  01/10/2017      0  6011          NaN       810 2017-10-12 12:24:07   \n",
       "2  01/12/2017      0  5921          NaN       810 2017-12-05 00:00:00   \n",
       "3  01/10/2017      0  5411          NaN       810 2017-10-21 00:00:00   \n",
       "4  01/10/2017      0  6012          NaN       810 2017-10-24 13:14:24   \n",
       "\n",
       "    amount trx_category  target_flag  target_sum  log_target_sum  use_count  \\\n",
       "0   5023.0          POS            0         0.0             0.0          5   \n",
       "1  20000.0      DEPOSIT            0         0.0             0.0          5   \n",
       "2    767.0          POS            0         0.0             0.0          5   \n",
       "3   2031.0          POS            0         0.0             0.0          5   \n",
       "4  36562.0      C2C_OUT            0         0.0             0.0          5   \n",
       "\n",
       "   encoded_channel_type  MCC_encoded  signed_amount  \n",
       "0                     1     0.493353        -5023.0  \n",
       "1                     1     0.653231        20000.0  \n",
       "2                     1     0.672651         -767.0  \n",
       "3                     1     0.619393        -2031.0  \n",
       "4                     1     0.567721       -36562.0  "
      ]
     },
     "execution_count": 177,
     "metadata": {},
     "output_type": "execute_result"
    }
   ],
   "source": [
    "train.head()"
   ]
  },
  {
   "cell_type": "code",
   "execution_count": 178,
   "metadata": {},
   "outputs": [],
   "source": [
    "def makeFeatures2(dataset, train=False):\n",
    "#     new_train = dataset[[\"cl_id\", \"amount\", \"trx_category\"]].groupby([\"cl_id\", \"trx_category\"]).agg(\"sum\").unstack().fillna(0)\n",
    "#     new_train.columns = new_train.columns.droplevel()\n",
    "    new_train = dataset.groupby(\"cl_id\")[[\"cl_id\"]].first()\n",
    "    \n",
    "       \n",
    "#     new_train[\"amount\"] = np.log(dataset[dataset.trx_category == \"POS\"].groupby(\"cl_id\").amount.agg(\"sum\") + 1)\n",
    "\n",
    "    tmp = dataset[dataset.trx_category == \"POS\"].groupby([\"cl_id\", \"channel_type\"])[\"signed_amount\"].agg(\"sum\").unstack().fillna(0)\n",
    "    new_train = pd.concat((new_train, np.log(np.abs(tmp) + 1)), axis=1)\n",
    "    \n",
    "    use_time = dataset[dataset.trx_category == \"POS\"][[\"cl_id\", \"TRDATETIME\"]].groupby(\"cl_id\").agg([\"min\", \"max\"]).apply(lambda x: x[1] - x[0], axis=1)\n",
    "    tmp = use_time.apply(lambda x: x.days)\n",
    "    new_train[\"useDays\"] = tmp\n",
    "    \n",
    "    new_train[\"MCC\"] = dataset.groupby(\"cl_id\").MCC_encoded.agg(\"mean\")\n",
    "    \n",
    "    new_train[\"use_count\"] = dataset.groupby(\"cl_id\").use_count.first()\n",
    "    \n",
    "    if (train):\n",
    "        new_train[\"target_flag\"] = dataset[[\"cl_id\",'target_flag']].groupby('cl_id')[\"target_flag\"].first()\n",
    "        new_train[\"log_target_sum\"] = dataset[[\"cl_id\",'log_target_sum']].groupby('cl_id')[\"log_target_sum\"].first()\n",
    "        new_train[\"missClass\"] = 0\n",
    "#         new_train[\"target_sum\"] = dataset[[\"cl_id\",'target_sum']].groupby('cl_id')[\"target_sum\"].first()\n",
    "    \n",
    "    return new_train.reset_index(drop=True)"
   ]
  },
  {
   "cell_type": "code",
   "execution_count": 179,
   "metadata": {},
   "outputs": [],
   "source": [
    "new_train = makeFeatures2(train, train=True)\n",
    "new_train.loc[missClass, \"missClass\"] = 1"
   ]
  },
  {
   "cell_type": "code",
   "execution_count": 180,
   "metadata": {},
   "outputs": [
    {
     "data": {
      "text/plain": [
       "<matplotlib.axes._subplots.AxesSubplot at 0x7fa030022a90>"
      ]
     },
     "execution_count": 180,
     "metadata": {},
     "output_type": "execute_result"
    },
    {
     "data": {
      "image/png": "[encoded data removed]",
      "text/plain": [
       "<Figure size 1080x720 with 2 Axes>"
      ]
     },
     "metadata": {},
     "output_type": "display_data"
    }
   ],
   "source": [
    "plt.figure(figsize=(15, 10))\n",
    "sns.heatmap(new_train.corr(), annot=True)"
   ]
  },
  {
   "cell_type": "code",
   "execution_count": 181,
   "metadata": {},
   "outputs": [],
   "source": [
    "X_new = new_train.drop([\"target_flag\", \"log_target_sum\", \"missClass\"], axis=1)"
   ]
  },
  {
   "cell_type": "code",
   "execution_count": 183,
   "metadata": {},
   "outputs": [
    {
     "data": {
      "text/plain": [
       "0.7267621700788599"
      ]
     },
     "execution_count": 183,
     "metadata": {},
     "output_type": "execute_result"
    }
   ],
   "source": [
    "xgbClassifier = xgb.XGBClassifier(n_estimators=100, max_depth=3, learning_rate=0.1)\n",
    "cross_val_score(xgbClassifier, X_new, new_train.missClass, scoring=\"roc_auc\", cv=folds).mean()"
   ]
  },
  {
   "cell_type": "code",
   "execution_count": 374,
   "metadata": {},
   "outputs": [],
   "source": [
    "train[\"year\"] = train.TRDATETIME.apply(lambda x: x.year)\n",
    "train[\"month\"] = train.TRDATETIME.apply(lambda x: x.month)\n",
    "train[\"year_month\"] = train.TRDATETIME.apply(lambda x: x.year * 100 + x.month)"
   ]
  },
  {
   "cell_type": "code",
   "execution_count": 376,
   "metadata": {},
   "outputs": [],
   "source": [
    "train[\"day\"] = train.TRDATETIME.apply(lambda x: x.day)\n",
    "train[\"month_day\"] = train.TRDATETIME.apply(lambda x: x.month * 100 + x.day)"
   ]
  },
  {
   "cell_type": "code",
   "execution_count": 378,
   "metadata": {},
   "outputs": [
    {
     "data": {
      "text/plain": [
       "<matplotlib.axes._subplots.AxesSubplot at 0x7fa0a31e9438>"
      ]
     },
     "execution_count": 378,
     "metadata": {},
     "output_type": "execute_result"
    },
    {
     "data": {
      "image/png": "[encoded data removed]",
      "text/plain": [
       "<Figure size 1080x720 with 1 Axes>"
      ]
     },
     "metadata": {},
     "output_type": "display_data"
    }
   ],
   "source": [
    "plt.figure(figsize=(15, 10))\n",
    "sns.countplot(x=\"month_day\", hue=\"missClass\", data=train)"
   ]
  },
  {
   "cell_type": "code",
   "execution_count": 289,
   "metadata": {},
   "outputs": [],
   "source": [
    "def cross_val_predict(est, train, target, kfold):\n",
    "    pred = np.zeros(train.shape[0])\n",
    "    for X_train, X_test in kfold.split(train, target):\n",
    "        est.fit(train.loc[X_train], target[X_train])\n",
    "        pred[X_test] = est.predict_proba(train.loc[X_test])[:, 1]\n",
    "    return pred"
   ]
  },
  {
   "cell_type": "code",
   "execution_count": 573,
   "metadata": {},
   "outputs": [],
   "source": [
    "from sklearn.ensemble import RandomForestClassifier\n",
    "rf = RandomForestClassifier(n_estimators=70, max_depth=8, max_features=3, random_state=5)\n",
    "rf.fit(X.drop(\"cl_id\", axis=1), new_train.target_flag)\n",
    "rf.feature_importances_\n",
    "pred1 = cross_val_predict(rf, X.drop(\"cl_id\", axis=1), new_train.target_flag, folds).reshape(-1, 1)"
   ]
  },
  {
   "cell_type": "code",
   "execution_count": 570,
   "metadata": {},
   "outputs": [
    {
     "data": {
      "text/plain": [
       "0.838821737992716"
      ]
     },
     "execution_count": 570,
     "metadata": {},
     "output_type": "execute_result"
    }
   ],
   "source": [
    "cross_val_score(rf, X.drop(\"cl_id\", axis=1), new_train.target_flag, scoring=\"roc_auc\", cv=folds).mean()"
   ]
  },
  {
   "cell_type": "code",
   "execution_count": 567,
   "metadata": {},
   "outputs": [
    {
     "data": {
      "text/plain": [
       "array([0.24914676, 0.01365188, 0.01365188, 0.00682594, 0.        ,\n",
       "       0.01023891, 0.13651878, 0.15017065, 0.05119454, 0.05802048,\n",
       "       0.06484642, 0.03071672, 0.21501707], dtype=float32)"
      ]
     },
     "execution_count": 567,
     "metadata": {},
     "output_type": "execute_result"
    }
   ],
   "source": [
    "xgbClassifier.fit(X, new_train.target_flag)\n",
    "pred2 = cross_val_predict(rf, X, new_train.target_flag, folds).reshape(-1, 1)\n",
    "xgbClassifier.feature_importances_"
   ]
  },
  {
   "cell_type": "code",
   "execution_count": 574,
   "metadata": {},
   "outputs": [
    {
     "data": {
      "text/plain": [
       "0.8554083270934818"
      ]
     },
     "execution_count": 574,
     "metadata": {},
     "output_type": "execute_result"
    }
   ],
   "source": [
    "rf = RandomForestClassifier(n_estimators=70, max_depth=8, random_state=5)\n",
    "cross_val_score(xgbClassifier, np.hstack((pred1, pred2)), new_train.target_flag, scoring=\"roc_auc\", cv=folds).mean()"
   ]
  },
  {
   "cell_type": "code",
   "execution_count": 245,
   "metadata": {},
   "outputs": [],
   "source": [
    "X_new = pd.get_dummies(train.groupby(\"cl_id\").channel_type.first()).reset_index(drop=True).apply(lambda x: x * new_train.useDays, axis=0)"
   ]
  },
  {
   "cell_type": "code",
   "execution_count": 385,
   "metadata": {},
   "outputs": [],
   "source": [
    "X_new = X_new.drop([\"type3\", \"type4\", \"type5\"], axis=1)"
   ]
  },
  {
   "cell_type": "code",
   "execution_count": 324,
   "metadata": {},
   "outputs": [
    {
     "ename": "AttributeError",
     "evalue": "'DataFrame' object has no attribute 'missClass'",
     "output_type": "error",
     "traceback": [
      "\u001b[0;31m---------------------------------------------------------------------------\u001b[0m",
      "\u001b[0;31mAttributeError\u001b[0m                            Traceback (most recent call last)",
      "\u001b[0;32m<ipython-input-324-fca276955092>\u001b[0m in \u001b[0;36m<module>\u001b[0;34m()\u001b[0m\n\u001b[0;32m----> 1\u001b[0;31m \u001b[0mpd\u001b[0m\u001b[0;34m.\u001b[0m\u001b[0mconcat\u001b[0m\u001b[0;34m(\u001b[0m\u001b[0;34m(\u001b[0m\u001b[0mX_new\u001b[0m\u001b[0;34m,\u001b[0m \u001b[0mnew_train\u001b[0m\u001b[0;34m.\u001b[0m\u001b[0mmissClass\u001b[0m\u001b[0;34m)\u001b[0m\u001b[0;34m,\u001b[0m \u001b[0maxis\u001b[0m\u001b[0;34m=\u001b[0m\u001b[0;36m1\u001b[0m\u001b[0;34m)\u001b[0m\u001b[0;34m.\u001b[0m\u001b[0mcorr\u001b[0m\u001b[0;34m(\u001b[0m\u001b[0;34m)\u001b[0m\u001b[0;34m\u001b[0m\u001b[0m\n\u001b[0m",
      "\u001b[0;32m/usr/local/lib/python3.5/dist-packages/pandas/core/generic.py\u001b[0m in \u001b[0;36m__getattr__\u001b[0;34m(self, name)\u001b[0m\n\u001b[1;32m   3079\u001b[0m             \u001b[0;32mif\u001b[0m \u001b[0mname\u001b[0m \u001b[0;32min\u001b[0m \u001b[0mself\u001b[0m\u001b[0;34m.\u001b[0m\u001b[0m_info_axis\u001b[0m\u001b[0;34m:\u001b[0m\u001b[0;34m\u001b[0m\u001b[0m\n\u001b[1;32m   3080\u001b[0m                 \u001b[0;32mreturn\u001b[0m \u001b[0mself\u001b[0m\u001b[0;34m[\u001b[0m\u001b[0mname\u001b[0m\u001b[0;34m]\u001b[0m\u001b[0;34m\u001b[0m\u001b[0m\n\u001b[0;32m-> 3081\u001b[0;31m             \u001b[0;32mreturn\u001b[0m \u001b[0mobject\u001b[0m\u001b[0;34m.\u001b[0m\u001b[0m__getattribute__\u001b[0m\u001b[0;34m(\u001b[0m\u001b[0mself\u001b[0m\u001b[0;34m,\u001b[0m \u001b[0mname\u001b[0m\u001b[0;34m)\u001b[0m\u001b[0;34m\u001b[0m\u001b[0m\n\u001b[0m\u001b[1;32m   3082\u001b[0m \u001b[0;34m\u001b[0m\u001b[0m\n\u001b[1;32m   3083\u001b[0m     \u001b[0;32mdef\u001b[0m \u001b[0m__setattr__\u001b[0m\u001b[0;34m(\u001b[0m\u001b[0mself\u001b[0m\u001b[0;34m,\u001b[0m \u001b[0mname\u001b[0m\u001b[0;34m,\u001b[0m \u001b[0mvalue\u001b[0m\u001b[0;34m)\u001b[0m\u001b[0;34m:\u001b[0m\u001b[0;34m\u001b[0m\u001b[0m\n",
      "\u001b[0;31mAttributeError\u001b[0m: 'DataFrame' object has no attribute 'missClass'"
     ]
    }
   ],
   "source": [
    "pd.concat((X_new, new_train.missClass), axis=1).corr()"
   ]
  },
  {
   "cell_type": "code",
   "execution_count": 430,
   "metadata": {},
   "outputs": [
    {
     "data": {
      "text/plain": [
       "0.6865671584741309"
      ]
     },
     "execution_count": 430,
     "metadata": {},
     "output_type": "execute_result"
    }
   ],
   "source": [
    "cross_val_score(xgbClassifier, X, new_train.missClass, scoring=\"roc_auc\", cv=folds).mean()"
   ]
  },
  {
   "cell_type": "code",
   "execution_count": 443,
   "metadata": {},
   "outputs": [
    {
     "name": "stdout",
     "output_type": "stream",
     "text": [
      "0.7161250079969292\n",
      "0.6974681722218667\n",
      "0.7501599385835839\n",
      "0.7171368861024034\n",
      "0.6814002089864158\n",
      "0.706130499537093\n"
     ]
    }
   ],
   "source": [
    "pred = np.zeros(new_train.shape[0])\n",
    "for X_train, X_test in folds.split(X_new, new_train.missClass):\n",
    "    rf.fit(X_new.loc[X_train], new_train.loc[X_train].missClass)\n",
    "    pred[X_test] = rf.predict_proba(X_new.loc[X_test])[:, 1] * (new_train.loc[X_test].missClass + 30)\n",
    "#     print((new_train.loc[X_test].missClass == pred[X_test]).mean())\n",
    "    print(roc_auc_score(new_train.loc[X_test].missClass, pred[X_test]))"
   ]
  },
  {
   "cell_type": "code",
   "execution_count": 187,
   "metadata": {},
   "outputs": [
    {
     "data": {
      "text/plain": [
       "0.4174136349985775"
      ]
     },
     "execution_count": 187,
     "metadata": {},
     "output_type": "execute_result"
    }
   ],
   "source": [
    "pred.max()"
   ]
  },
  {
   "cell_type": "code",
   "execution_count": 102,
   "metadata": {},
   "outputs": [
    {
     "data": {
      "text/plain": [
       "XGBClassifier(base_score=0.5, booster='gbtree', colsample_bylevel=1,\n",
       "       colsample_bytree=1, gamma=0, learning_rate=0.1, max_delta_step=0,\n",
       "       max_depth=3, min_child_weight=1, missing=None, n_estimators=100,\n",
       "       n_jobs=1, nthread=None, objective='binary:logistic', random_state=0,\n",
       "       reg_alpha=0, reg_lambda=1, scale_pos_weight=1, seed=None,\n",
       "       silent=True, subsample=1)"
      ]
     },
     "execution_count": 102,
     "metadata": {},
     "output_type": "execute_result"
    }
   ],
   "source": [
    "xgbClassifier.fit(X_new, new_train.missClass)"
   ]
  },
  {
   "cell_type": "code",
   "execution_count": 103,
   "metadata": {},
   "outputs": [
    {
     "data": {
      "text/plain": [
       "array([0.5033784, 0.4966216], dtype=float32)"
      ]
     },
     "execution_count": 103,
     "metadata": {},
     "output_type": "execute_result"
    }
   ],
   "source": [
    "xgbClassifier.feature_importances_"
   ]
  },
  {
   "cell_type": "code",
   "execution_count": 48,
   "metadata": {},
   "outputs": [
    {
     "data": {
      "text/html": [
       "<div>\n",
       "<style>\n",
       "    .dataframe thead tr:only-child th {\n",
       "        text-align: right;\n",
       "    }\n",
       "\n",
       "    .dataframe thead th {\n",
       "        text-align: left;\n",
       "    }\n",
       "\n",
       "    .dataframe tbody tr th {\n",
       "        vertical-align: top;\n",
       "    }\n",
       "</style>\n",
       "<table border=\"1\" class=\"dataframe\">\n",
       "  <thead>\n",
       "    <tr style=\"text-align: right;\">\n",
       "      <th>trx_category</th>\n",
       "      <th>cl_id</th>\n",
       "      <th>BACK_TRX</th>\n",
       "      <th>C2C_IN</th>\n",
       "      <th>C2C_OUT</th>\n",
       "      <th>CASH_ADV</th>\n",
       "      <th>CAT</th>\n",
       "      <th>DEPOSIT</th>\n",
       "      <th>POS</th>\n",
       "      <th>WD_ATM_OTHER</th>\n",
       "      <th>WD_ATM_PARTNER</th>\n",
       "      <th>WD_ATM_ROS</th>\n",
       "      <th>useDays</th>\n",
       "      <th>target_flag</th>\n",
       "      <th>log_target_sum</th>\n",
       "      <th>target_sum</th>\n",
       "      <th>use_count</th>\n",
       "      <th>missClass</th>\n",
       "    </tr>\n",
       "  </thead>\n",
       "  <tbody>\n",
       "    <tr>\n",
       "      <th>1</th>\n",
       "      <td>1</td>\n",
       "      <td>0.00</td>\n",
       "      <td>0.00</td>\n",
       "      <td>0.00</td>\n",
       "      <td>0.00</td>\n",
       "      <td>0.00</td>\n",
       "      <td>95000.0</td>\n",
       "      <td>122578.04</td>\n",
       "      <td>0.0</td>\n",
       "      <td>0.0</td>\n",
       "      <td>50000.0</td>\n",
       "      <td>92</td>\n",
       "      <td>0</td>\n",
       "      <td>0.000000</td>\n",
       "      <td>0.00</td>\n",
       "      <td>4.653960</td>\n",
       "      <td>1</td>\n",
       "    </tr>\n",
       "    <tr>\n",
       "      <th>2</th>\n",
       "      <td>5</td>\n",
       "      <td>13990.00</td>\n",
       "      <td>0.00</td>\n",
       "      <td>33878.38</td>\n",
       "      <td>0.00</td>\n",
       "      <td>0.00</td>\n",
       "      <td>130000.0</td>\n",
       "      <td>290500.75</td>\n",
       "      <td>5500.0</td>\n",
       "      <td>6000.0</td>\n",
       "      <td>66500.0</td>\n",
       "      <td>92</td>\n",
       "      <td>1</td>\n",
       "      <td>12.695305</td>\n",
       "      <td>326211.75</td>\n",
       "      <td>4.962845</td>\n",
       "      <td>1</td>\n",
       "    </tr>\n",
       "    <tr>\n",
       "      <th>3</th>\n",
       "      <td>9</td>\n",
       "      <td>0.00</td>\n",
       "      <td>296950.00</td>\n",
       "      <td>0.00</td>\n",
       "      <td>0.00</td>\n",
       "      <td>0.00</td>\n",
       "      <td>5000.0</td>\n",
       "      <td>12365.09</td>\n",
       "      <td>0.0</td>\n",
       "      <td>100000.0</td>\n",
       "      <td>435000.0</td>\n",
       "      <td>89</td>\n",
       "      <td>0</td>\n",
       "      <td>0.000000</td>\n",
       "      <td>0.00</td>\n",
       "      <td>3.688879</td>\n",
       "      <td>1</td>\n",
       "    </tr>\n",
       "    <tr>\n",
       "      <th>4</th>\n",
       "      <td>10</td>\n",
       "      <td>0.00</td>\n",
       "      <td>10000.00</td>\n",
       "      <td>21692.90</td>\n",
       "      <td>0.00</td>\n",
       "      <td>37694.98</td>\n",
       "      <td>426300.0</td>\n",
       "      <td>200956.11</td>\n",
       "      <td>0.0</td>\n",
       "      <td>5400.0</td>\n",
       "      <td>422300.0</td>\n",
       "      <td>89</td>\n",
       "      <td>0</td>\n",
       "      <td>0.000000</td>\n",
       "      <td>0.00</td>\n",
       "      <td>6.139885</td>\n",
       "      <td>1</td>\n",
       "    </tr>\n",
       "    <tr>\n",
       "      <th>5</th>\n",
       "      <td>11</td>\n",
       "      <td>0.00</td>\n",
       "      <td>0.00</td>\n",
       "      <td>0.00</td>\n",
       "      <td>0.00</td>\n",
       "      <td>0.00</td>\n",
       "      <td>182000.0</td>\n",
       "      <td>245747.14</td>\n",
       "      <td>0.0</td>\n",
       "      <td>0.0</td>\n",
       "      <td>0.0</td>\n",
       "      <td>91</td>\n",
       "      <td>0</td>\n",
       "      <td>0.000000</td>\n",
       "      <td>0.00</td>\n",
       "      <td>5.384495</td>\n",
       "      <td>1</td>\n",
       "    </tr>\n",
       "    <tr>\n",
       "      <th>11</th>\n",
       "      <td>24</td>\n",
       "      <td>0.00</td>\n",
       "      <td>2000.00</td>\n",
       "      <td>0.00</td>\n",
       "      <td>0.00</td>\n",
       "      <td>0.00</td>\n",
       "      <td>53000.0</td>\n",
       "      <td>58185.76</td>\n",
       "      <td>0.0</td>\n",
       "      <td>0.0</td>\n",
       "      <td>0.0</td>\n",
       "      <td>61</td>\n",
       "      <td>1</td>\n",
       "      <td>7.140168</td>\n",
       "      <td>1260.64</td>\n",
       "      <td>2.484907</td>\n",
       "      <td>1</td>\n",
       "    </tr>\n",
       "    <tr>\n",
       "      <th>21</th>\n",
       "      <td>42</td>\n",
       "      <td>0.00</td>\n",
       "      <td>67000.00</td>\n",
       "      <td>0.00</td>\n",
       "      <td>0.00</td>\n",
       "      <td>0.00</td>\n",
       "      <td>77500.0</td>\n",
       "      <td>244584.90</td>\n",
       "      <td>0.0</td>\n",
       "      <td>37100.0</td>\n",
       "      <td>251800.0</td>\n",
       "      <td>92</td>\n",
       "      <td>0</td>\n",
       "      <td>0.000000</td>\n",
       "      <td>0.00</td>\n",
       "      <td>5.533389</td>\n",
       "      <td>1</td>\n",
       "    </tr>\n",
       "    <tr>\n",
       "      <th>24</th>\n",
       "      <td>49</td>\n",
       "      <td>0.00</td>\n",
       "      <td>10000.00</td>\n",
       "      <td>0.00</td>\n",
       "      <td>0.00</td>\n",
       "      <td>600.00</td>\n",
       "      <td>125000.0</td>\n",
       "      <td>186232.94</td>\n",
       "      <td>0.0</td>\n",
       "      <td>0.0</td>\n",
       "      <td>0.0</td>\n",
       "      <td>88</td>\n",
       "      <td>0</td>\n",
       "      <td>0.000000</td>\n",
       "      <td>0.00</td>\n",
       "      <td>4.510860</td>\n",
       "      <td>1</td>\n",
       "    </tr>\n",
       "    <tr>\n",
       "      <th>25</th>\n",
       "      <td>50</td>\n",
       "      <td>0.00</td>\n",
       "      <td>130890.00</td>\n",
       "      <td>0.00</td>\n",
       "      <td>0.00</td>\n",
       "      <td>0.00</td>\n",
       "      <td>0.0</td>\n",
       "      <td>136218.91</td>\n",
       "      <td>0.0</td>\n",
       "      <td>0.0</td>\n",
       "      <td>0.0</td>\n",
       "      <td>83</td>\n",
       "      <td>1</td>\n",
       "      <td>11.219807</td>\n",
       "      <td>74592.37</td>\n",
       "      <td>3.871201</td>\n",
       "      <td>1</td>\n",
       "    </tr>\n",
       "    <tr>\n",
       "      <th>27</th>\n",
       "      <td>54</td>\n",
       "      <td>3231.00</td>\n",
       "      <td>52860.00</td>\n",
       "      <td>0.00</td>\n",
       "      <td>0.00</td>\n",
       "      <td>0.00</td>\n",
       "      <td>27500.0</td>\n",
       "      <td>91698.16</td>\n",
       "      <td>0.0</td>\n",
       "      <td>0.0</td>\n",
       "      <td>0.0</td>\n",
       "      <td>69</td>\n",
       "      <td>0</td>\n",
       "      <td>0.000000</td>\n",
       "      <td>0.00</td>\n",
       "      <td>5.123964</td>\n",
       "      <td>1</td>\n",
       "    </tr>\n",
       "    <tr>\n",
       "      <th>28</th>\n",
       "      <td>55</td>\n",
       "      <td>0.00</td>\n",
       "      <td>0.00</td>\n",
       "      <td>0.00</td>\n",
       "      <td>0.00</td>\n",
       "      <td>0.00</td>\n",
       "      <td>80328.0</td>\n",
       "      <td>272124.82</td>\n",
       "      <td>0.0</td>\n",
       "      <td>0.0</td>\n",
       "      <td>0.0</td>\n",
       "      <td>88</td>\n",
       "      <td>0</td>\n",
       "      <td>0.000000</td>\n",
       "      <td>0.00</td>\n",
       "      <td>4.795791</td>\n",
       "      <td>1</td>\n",
       "    </tr>\n",
       "    <tr>\n",
       "      <th>36</th>\n",
       "      <td>70</td>\n",
       "      <td>0.00</td>\n",
       "      <td>0.00</td>\n",
       "      <td>241000.00</td>\n",
       "      <td>0.00</td>\n",
       "      <td>0.00</td>\n",
       "      <td>65000.0</td>\n",
       "      <td>6105.31</td>\n",
       "      <td>308200.0</td>\n",
       "      <td>225000.0</td>\n",
       "      <td>812400.0</td>\n",
       "      <td>53</td>\n",
       "      <td>1</td>\n",
       "      <td>7.060476</td>\n",
       "      <td>1164.00</td>\n",
       "      <td>4.488636</td>\n",
       "      <td>1</td>\n",
       "    </tr>\n",
       "    <tr>\n",
       "      <th>38</th>\n",
       "      <td>74</td>\n",
       "      <td>0.00</td>\n",
       "      <td>2700.00</td>\n",
       "      <td>0.00</td>\n",
       "      <td>0.00</td>\n",
       "      <td>114000.00</td>\n",
       "      <td>299050.0</td>\n",
       "      <td>159134.85</td>\n",
       "      <td>0.0</td>\n",
       "      <td>0.0</td>\n",
       "      <td>33700.0</td>\n",
       "      <td>80</td>\n",
       "      <td>1</td>\n",
       "      <td>11.591908</td>\n",
       "      <td>108217.55</td>\n",
       "      <td>4.962845</td>\n",
       "      <td>1</td>\n",
       "    </tr>\n",
       "    <tr>\n",
       "      <th>41</th>\n",
       "      <td>78</td>\n",
       "      <td>0.00</td>\n",
       "      <td>130.00</td>\n",
       "      <td>2500.00</td>\n",
       "      <td>0.00</td>\n",
       "      <td>0.00</td>\n",
       "      <td>235000.0</td>\n",
       "      <td>280581.88</td>\n",
       "      <td>7670.0</td>\n",
       "      <td>5000.0</td>\n",
       "      <td>95000.0</td>\n",
       "      <td>90</td>\n",
       "      <td>1</td>\n",
       "      <td>11.561152</td>\n",
       "      <td>104939.84</td>\n",
       "      <td>4.574711</td>\n",
       "      <td>1</td>\n",
       "    </tr>\n",
       "    <tr>\n",
       "      <th>42</th>\n",
       "      <td>79</td>\n",
       "      <td>4000.00</td>\n",
       "      <td>1000.00</td>\n",
       "      <td>0.00</td>\n",
       "      <td>0.00</td>\n",
       "      <td>283344.39</td>\n",
       "      <td>231000.0</td>\n",
       "      <td>144769.37</td>\n",
       "      <td>0.0</td>\n",
       "      <td>0.0</td>\n",
       "      <td>2000.0</td>\n",
       "      <td>87</td>\n",
       "      <td>0</td>\n",
       "      <td>0.000000</td>\n",
       "      <td>0.00</td>\n",
       "      <td>4.382027</td>\n",
       "      <td>1</td>\n",
       "    </tr>\n",
       "    <tr>\n",
       "      <th>44</th>\n",
       "      <td>82</td>\n",
       "      <td>1079.97</td>\n",
       "      <td>0.00</td>\n",
       "      <td>470.00</td>\n",
       "      <td>0.00</td>\n",
       "      <td>0.00</td>\n",
       "      <td>263600.0</td>\n",
       "      <td>124250.94</td>\n",
       "      <td>59000.0</td>\n",
       "      <td>0.0</td>\n",
       "      <td>202900.0</td>\n",
       "      <td>92</td>\n",
       "      <td>0</td>\n",
       "      <td>0.000000</td>\n",
       "      <td>0.00</td>\n",
       "      <td>4.584967</td>\n",
       "      <td>1</td>\n",
       "    </tr>\n",
       "    <tr>\n",
       "      <th>52</th>\n",
       "      <td>94</td>\n",
       "      <td>0.00</td>\n",
       "      <td>0.00</td>\n",
       "      <td>0.00</td>\n",
       "      <td>0.00</td>\n",
       "      <td>0.00</td>\n",
       "      <td>0.0</td>\n",
       "      <td>6129.00</td>\n",
       "      <td>0.0</td>\n",
       "      <td>0.0</td>\n",
       "      <td>0.0</td>\n",
       "      <td>4</td>\n",
       "      <td>1</td>\n",
       "      <td>11.805413</td>\n",
       "      <td>133974.63</td>\n",
       "      <td>1.386294</td>\n",
       "      <td>1</td>\n",
       "    </tr>\n",
       "    <tr>\n",
       "      <th>56</th>\n",
       "      <td>103</td>\n",
       "      <td>0.00</td>\n",
       "      <td>20000.00</td>\n",
       "      <td>0.00</td>\n",
       "      <td>0.00</td>\n",
       "      <td>0.00</td>\n",
       "      <td>0.0</td>\n",
       "      <td>207783.42</td>\n",
       "      <td>0.0</td>\n",
       "      <td>12500.0</td>\n",
       "      <td>3000.0</td>\n",
       "      <td>82</td>\n",
       "      <td>0</td>\n",
       "      <td>0.000000</td>\n",
       "      <td>0.00</td>\n",
       "      <td>5.056246</td>\n",
       "      <td>1</td>\n",
       "    </tr>\n",
       "    <tr>\n",
       "      <th>57</th>\n",
       "      <td>104</td>\n",
       "      <td>0.00</td>\n",
       "      <td>0.00</td>\n",
       "      <td>0.00</td>\n",
       "      <td>0.00</td>\n",
       "      <td>0.00</td>\n",
       "      <td>0.0</td>\n",
       "      <td>27132.90</td>\n",
       "      <td>0.0</td>\n",
       "      <td>0.0</td>\n",
       "      <td>46000.0</td>\n",
       "      <td>27</td>\n",
       "      <td>1</td>\n",
       "      <td>8.201797</td>\n",
       "      <td>3646.50</td>\n",
       "      <td>2.564949</td>\n",
       "      <td>1</td>\n",
       "    </tr>\n",
       "    <tr>\n",
       "      <th>58</th>\n",
       "      <td>106</td>\n",
       "      <td>0.00</td>\n",
       "      <td>0.00</td>\n",
       "      <td>0.00</td>\n",
       "      <td>0.00</td>\n",
       "      <td>0.00</td>\n",
       "      <td>60000.0</td>\n",
       "      <td>5900.00</td>\n",
       "      <td>0.0</td>\n",
       "      <td>0.0</td>\n",
       "      <td>0.0</td>\n",
       "      <td>0</td>\n",
       "      <td>1</td>\n",
       "      <td>11.109931</td>\n",
       "      <td>66830.55</td>\n",
       "      <td>1.945910</td>\n",
       "      <td>1</td>\n",
       "    </tr>\n",
       "    <tr>\n",
       "      <th>62</th>\n",
       "      <td>113</td>\n",
       "      <td>0.00</td>\n",
       "      <td>0.00</td>\n",
       "      <td>75000.00</td>\n",
       "      <td>0.00</td>\n",
       "      <td>0.00</td>\n",
       "      <td>0.0</td>\n",
       "      <td>65751.55</td>\n",
       "      <td>2000.0</td>\n",
       "      <td>0.0</td>\n",
       "      <td>100000.0</td>\n",
       "      <td>61</td>\n",
       "      <td>0</td>\n",
       "      <td>0.000000</td>\n",
       "      <td>0.00</td>\n",
       "      <td>2.639057</td>\n",
       "      <td>1</td>\n",
       "    </tr>\n",
       "    <tr>\n",
       "      <th>65</th>\n",
       "      <td>119</td>\n",
       "      <td>2147.00</td>\n",
       "      <td>0.00</td>\n",
       "      <td>0.00</td>\n",
       "      <td>0.00</td>\n",
       "      <td>0.00</td>\n",
       "      <td>499000.0</td>\n",
       "      <td>106188.70</td>\n",
       "      <td>13500.0</td>\n",
       "      <td>21000.0</td>\n",
       "      <td>54000.0</td>\n",
       "      <td>87</td>\n",
       "      <td>0</td>\n",
       "      <td>0.000000</td>\n",
       "      <td>0.00</td>\n",
       "      <td>3.784190</td>\n",
       "      <td>1</td>\n",
       "    </tr>\n",
       "    <tr>\n",
       "      <th>69</th>\n",
       "      <td>129</td>\n",
       "      <td>0.00</td>\n",
       "      <td>14500.00</td>\n",
       "      <td>0.00</td>\n",
       "      <td>0.00</td>\n",
       "      <td>156400.00</td>\n",
       "      <td>158300.0</td>\n",
       "      <td>1538.30</td>\n",
       "      <td>0.0</td>\n",
       "      <td>0.0</td>\n",
       "      <td>0.0</td>\n",
       "      <td>44</td>\n",
       "      <td>1</td>\n",
       "      <td>7.774116</td>\n",
       "      <td>2377.24</td>\n",
       "      <td>2.995732</td>\n",
       "      <td>1</td>\n",
       "    </tr>\n",
       "    <tr>\n",
       "      <th>73</th>\n",
       "      <td>136</td>\n",
       "      <td>1898.00</td>\n",
       "      <td>0.00</td>\n",
       "      <td>0.00</td>\n",
       "      <td>0.00</td>\n",
       "      <td>0.00</td>\n",
       "      <td>154250.0</td>\n",
       "      <td>155534.44</td>\n",
       "      <td>0.0</td>\n",
       "      <td>0.0</td>\n",
       "      <td>100.0</td>\n",
       "      <td>83</td>\n",
       "      <td>1</td>\n",
       "      <td>6.398595</td>\n",
       "      <td>600.00</td>\n",
       "      <td>5.141664</td>\n",
       "      <td>1</td>\n",
       "    </tr>\n",
       "    <tr>\n",
       "      <th>75</th>\n",
       "      <td>138</td>\n",
       "      <td>16359.00</td>\n",
       "      <td>0.00</td>\n",
       "      <td>0.00</td>\n",
       "      <td>0.00</td>\n",
       "      <td>0.00</td>\n",
       "      <td>0.0</td>\n",
       "      <td>315255.07</td>\n",
       "      <td>0.0</td>\n",
       "      <td>57500.0</td>\n",
       "      <td>62500.0</td>\n",
       "      <td>84</td>\n",
       "      <td>0</td>\n",
       "      <td>0.000000</td>\n",
       "      <td>0.00</td>\n",
       "      <td>4.204693</td>\n",
       "      <td>1</td>\n",
       "    </tr>\n",
       "    <tr>\n",
       "      <th>81</th>\n",
       "      <td>148</td>\n",
       "      <td>0.00</td>\n",
       "      <td>0.00</td>\n",
       "      <td>0.00</td>\n",
       "      <td>0.00</td>\n",
       "      <td>0.00</td>\n",
       "      <td>380000.0</td>\n",
       "      <td>1319.50</td>\n",
       "      <td>0.0</td>\n",
       "      <td>0.0</td>\n",
       "      <td>0.0</td>\n",
       "      <td>0</td>\n",
       "      <td>1</td>\n",
       "      <td>12.403347</td>\n",
       "      <td>243614.55</td>\n",
       "      <td>1.791759</td>\n",
       "      <td>1</td>\n",
       "    </tr>\n",
       "    <tr>\n",
       "      <th>82</th>\n",
       "      <td>149</td>\n",
       "      <td>4236.00</td>\n",
       "      <td>50000.00</td>\n",
       "      <td>0.00</td>\n",
       "      <td>0.00</td>\n",
       "      <td>0.00</td>\n",
       "      <td>330000.0</td>\n",
       "      <td>495246.58</td>\n",
       "      <td>0.0</td>\n",
       "      <td>0.0</td>\n",
       "      <td>103000.0</td>\n",
       "      <td>72</td>\n",
       "      <td>0</td>\n",
       "      <td>0.000000</td>\n",
       "      <td>0.00</td>\n",
       "      <td>4.356709</td>\n",
       "      <td>1</td>\n",
       "    </tr>\n",
       "    <tr>\n",
       "      <th>89</th>\n",
       "      <td>163</td>\n",
       "      <td>0.00</td>\n",
       "      <td>0.00</td>\n",
       "      <td>0.00</td>\n",
       "      <td>0.00</td>\n",
       "      <td>0.00</td>\n",
       "      <td>0.0</td>\n",
       "      <td>2234.36</td>\n",
       "      <td>0.0</td>\n",
       "      <td>0.0</td>\n",
       "      <td>0.0</td>\n",
       "      <td>13</td>\n",
       "      <td>1</td>\n",
       "      <td>9.755730</td>\n",
       "      <td>17251.80</td>\n",
       "      <td>3.295837</td>\n",
       "      <td>1</td>\n",
       "    </tr>\n",
       "    <tr>\n",
       "      <th>97</th>\n",
       "      <td>183</td>\n",
       "      <td>0.00</td>\n",
       "      <td>0.00</td>\n",
       "      <td>0.00</td>\n",
       "      <td>0.00</td>\n",
       "      <td>0.00</td>\n",
       "      <td>0.0</td>\n",
       "      <td>137256.57</td>\n",
       "      <td>0.0</td>\n",
       "      <td>0.0</td>\n",
       "      <td>620000.0</td>\n",
       "      <td>91</td>\n",
       "      <td>0</td>\n",
       "      <td>0.000000</td>\n",
       "      <td>0.00</td>\n",
       "      <td>5.288267</td>\n",
       "      <td>1</td>\n",
       "    </tr>\n",
       "    <tr>\n",
       "      <th>101</th>\n",
       "      <td>190</td>\n",
       "      <td>0.00</td>\n",
       "      <td>0.00</td>\n",
       "      <td>0.00</td>\n",
       "      <td>0.00</td>\n",
       "      <td>0.00</td>\n",
       "      <td>0.0</td>\n",
       "      <td>3200.00</td>\n",
       "      <td>0.0</td>\n",
       "      <td>0.0</td>\n",
       "      <td>0.0</td>\n",
       "      <td>54</td>\n",
       "      <td>0</td>\n",
       "      <td>0.000000</td>\n",
       "      <td>0.00</td>\n",
       "      <td>1.098612</td>\n",
       "      <td>1</td>\n",
       "    </tr>\n",
       "    <tr>\n",
       "      <th>...</th>\n",
       "      <td>...</td>\n",
       "      <td>...</td>\n",
       "      <td>...</td>\n",
       "      <td>...</td>\n",
       "      <td>...</td>\n",
       "      <td>...</td>\n",
       "      <td>...</td>\n",
       "      <td>...</td>\n",
       "      <td>...</td>\n",
       "      <td>...</td>\n",
       "      <td>...</td>\n",
       "      <td>...</td>\n",
       "      <td>...</td>\n",
       "      <td>...</td>\n",
       "      <td>...</td>\n",
       "      <td>...</td>\n",
       "      <td>...</td>\n",
       "    </tr>\n",
       "    <tr>\n",
       "      <th>4919</th>\n",
       "      <td>10069</td>\n",
       "      <td>6492.50</td>\n",
       "      <td>35130.02</td>\n",
       "      <td>0.00</td>\n",
       "      <td>0.00</td>\n",
       "      <td>0.00</td>\n",
       "      <td>219000.0</td>\n",
       "      <td>206088.07</td>\n",
       "      <td>0.0</td>\n",
       "      <td>0.0</td>\n",
       "      <td>40000.0</td>\n",
       "      <td>89</td>\n",
       "      <td>1</td>\n",
       "      <td>5.056246</td>\n",
       "      <td>156.00</td>\n",
       "      <td>5.361292</td>\n",
       "      <td>1</td>\n",
       "    </tr>\n",
       "    <tr>\n",
       "      <th>4921</th>\n",
       "      <td>10077</td>\n",
       "      <td>0.00</td>\n",
       "      <td>0.00</td>\n",
       "      <td>0.00</td>\n",
       "      <td>0.00</td>\n",
       "      <td>0.00</td>\n",
       "      <td>15000.0</td>\n",
       "      <td>143381.00</td>\n",
       "      <td>0.0</td>\n",
       "      <td>0.0</td>\n",
       "      <td>9900.0</td>\n",
       "      <td>50</td>\n",
       "      <td>1</td>\n",
       "      <td>11.134866</td>\n",
       "      <td>68518.00</td>\n",
       "      <td>2.708050</td>\n",
       "      <td>1</td>\n",
       "    </tr>\n",
       "    <tr>\n",
       "      <th>4922</th>\n",
       "      <td>10078</td>\n",
       "      <td>0.00</td>\n",
       "      <td>0.00</td>\n",
       "      <td>0.00</td>\n",
       "      <td>0.00</td>\n",
       "      <td>0.00</td>\n",
       "      <td>15350.0</td>\n",
       "      <td>20106.24</td>\n",
       "      <td>0.0</td>\n",
       "      <td>0.0</td>\n",
       "      <td>130000.0</td>\n",
       "      <td>76</td>\n",
       "      <td>0</td>\n",
       "      <td>0.000000</td>\n",
       "      <td>0.00</td>\n",
       "      <td>3.891820</td>\n",
       "      <td>1</td>\n",
       "    </tr>\n",
       "    <tr>\n",
       "      <th>4932</th>\n",
       "      <td>10093</td>\n",
       "      <td>0.00</td>\n",
       "      <td>0.00</td>\n",
       "      <td>0.00</td>\n",
       "      <td>0.00</td>\n",
       "      <td>0.00</td>\n",
       "      <td>17000.0</td>\n",
       "      <td>24657.41</td>\n",
       "      <td>0.0</td>\n",
       "      <td>0.0</td>\n",
       "      <td>1997000.0</td>\n",
       "      <td>33</td>\n",
       "      <td>1</td>\n",
       "      <td>9.104344</td>\n",
       "      <td>8993.28</td>\n",
       "      <td>3.970292</td>\n",
       "      <td>1</td>\n",
       "    </tr>\n",
       "    <tr>\n",
       "      <th>4933</th>\n",
       "      <td>10095</td>\n",
       "      <td>0.00</td>\n",
       "      <td>1448.57</td>\n",
       "      <td>0.00</td>\n",
       "      <td>0.00</td>\n",
       "      <td>0.00</td>\n",
       "      <td>0.0</td>\n",
       "      <td>143535.91</td>\n",
       "      <td>0.0</td>\n",
       "      <td>0.0</td>\n",
       "      <td>0.0</td>\n",
       "      <td>66</td>\n",
       "      <td>0</td>\n",
       "      <td>0.000000</td>\n",
       "      <td>0.00</td>\n",
       "      <td>3.332205</td>\n",
       "      <td>1</td>\n",
       "    </tr>\n",
       "    <tr>\n",
       "      <th>4935</th>\n",
       "      <td>10099</td>\n",
       "      <td>0.00</td>\n",
       "      <td>37138.00</td>\n",
       "      <td>4406.00</td>\n",
       "      <td>0.00</td>\n",
       "      <td>50.00</td>\n",
       "      <td>16500.0</td>\n",
       "      <td>47756.05</td>\n",
       "      <td>0.0</td>\n",
       "      <td>1500.0</td>\n",
       "      <td>0.0</td>\n",
       "      <td>85</td>\n",
       "      <td>1</td>\n",
       "      <td>8.562253</td>\n",
       "      <td>5229.45</td>\n",
       "      <td>4.343805</td>\n",
       "      <td>1</td>\n",
       "    </tr>\n",
       "    <tr>\n",
       "      <th>4937</th>\n",
       "      <td>10103</td>\n",
       "      <td>0.00</td>\n",
       "      <td>0.00</td>\n",
       "      <td>0.00</td>\n",
       "      <td>0.00</td>\n",
       "      <td>0.00</td>\n",
       "      <td>100.0</td>\n",
       "      <td>9.90</td>\n",
       "      <td>0.0</td>\n",
       "      <td>0.0</td>\n",
       "      <td>85300.0</td>\n",
       "      <td>0</td>\n",
       "      <td>0</td>\n",
       "      <td>0.000000</td>\n",
       "      <td>0.00</td>\n",
       "      <td>1.945910</td>\n",
       "      <td>1</td>\n",
       "    </tr>\n",
       "    <tr>\n",
       "      <th>4938</th>\n",
       "      <td>10104</td>\n",
       "      <td>0.00</td>\n",
       "      <td>27550.00</td>\n",
       "      <td>0.00</td>\n",
       "      <td>0.00</td>\n",
       "      <td>0.00</td>\n",
       "      <td>0.0</td>\n",
       "      <td>12329.21</td>\n",
       "      <td>0.0</td>\n",
       "      <td>0.0</td>\n",
       "      <td>22000.0</td>\n",
       "      <td>92</td>\n",
       "      <td>0</td>\n",
       "      <td>0.000000</td>\n",
       "      <td>0.00</td>\n",
       "      <td>4.007333</td>\n",
       "      <td>1</td>\n",
       "    </tr>\n",
       "    <tr>\n",
       "      <th>4945</th>\n",
       "      <td>10114</td>\n",
       "      <td>0.00</td>\n",
       "      <td>75000.00</td>\n",
       "      <td>0.00</td>\n",
       "      <td>0.00</td>\n",
       "      <td>0.00</td>\n",
       "      <td>5000.0</td>\n",
       "      <td>1410.00</td>\n",
       "      <td>0.0</td>\n",
       "      <td>297000.0</td>\n",
       "      <td>198000.0</td>\n",
       "      <td>0</td>\n",
       "      <td>1</td>\n",
       "      <td>5.707110</td>\n",
       "      <td>300.00</td>\n",
       "      <td>2.708050</td>\n",
       "      <td>1</td>\n",
       "    </tr>\n",
       "    <tr>\n",
       "      <th>4951</th>\n",
       "      <td>10129</td>\n",
       "      <td>0.93</td>\n",
       "      <td>0.00</td>\n",
       "      <td>0.00</td>\n",
       "      <td>0.00</td>\n",
       "      <td>0.00</td>\n",
       "      <td>175000.0</td>\n",
       "      <td>210328.07</td>\n",
       "      <td>0.0</td>\n",
       "      <td>0.0</td>\n",
       "      <td>35000.0</td>\n",
       "      <td>90</td>\n",
       "      <td>1</td>\n",
       "      <td>11.417374</td>\n",
       "      <td>90886.14</td>\n",
       "      <td>4.919981</td>\n",
       "      <td>1</td>\n",
       "    </tr>\n",
       "    <tr>\n",
       "      <th>4953</th>\n",
       "      <td>10131</td>\n",
       "      <td>0.00</td>\n",
       "      <td>15000.00</td>\n",
       "      <td>12456.93</td>\n",
       "      <td>0.00</td>\n",
       "      <td>0.00</td>\n",
       "      <td>95000.0</td>\n",
       "      <td>172385.07</td>\n",
       "      <td>0.0</td>\n",
       "      <td>0.0</td>\n",
       "      <td>0.0</td>\n",
       "      <td>86</td>\n",
       "      <td>0</td>\n",
       "      <td>0.000000</td>\n",
       "      <td>0.00</td>\n",
       "      <td>5.164786</td>\n",
       "      <td>1</td>\n",
       "    </tr>\n",
       "    <tr>\n",
       "      <th>4954</th>\n",
       "      <td>10133</td>\n",
       "      <td>0.00</td>\n",
       "      <td>24588.84</td>\n",
       "      <td>0.00</td>\n",
       "      <td>0.00</td>\n",
       "      <td>0.00</td>\n",
       "      <td>16500.0</td>\n",
       "      <td>173520.28</td>\n",
       "      <td>0.0</td>\n",
       "      <td>0.0</td>\n",
       "      <td>0.0</td>\n",
       "      <td>73</td>\n",
       "      <td>1</td>\n",
       "      <td>11.192142</td>\n",
       "      <td>72557.00</td>\n",
       "      <td>3.828641</td>\n",
       "      <td>1</td>\n",
       "    </tr>\n",
       "    <tr>\n",
       "      <th>4956</th>\n",
       "      <td>10137</td>\n",
       "      <td>0.00</td>\n",
       "      <td>1500.00</td>\n",
       "      <td>0.00</td>\n",
       "      <td>0.00</td>\n",
       "      <td>0.00</td>\n",
       "      <td>119000.0</td>\n",
       "      <td>133480.21</td>\n",
       "      <td>0.0</td>\n",
       "      <td>0.0</td>\n",
       "      <td>0.0</td>\n",
       "      <td>90</td>\n",
       "      <td>0</td>\n",
       "      <td>0.000000</td>\n",
       "      <td>0.00</td>\n",
       "      <td>4.753590</td>\n",
       "      <td>1</td>\n",
       "    </tr>\n",
       "    <tr>\n",
       "      <th>4957</th>\n",
       "      <td>10138</td>\n",
       "      <td>0.00</td>\n",
       "      <td>0.00</td>\n",
       "      <td>0.00</td>\n",
       "      <td>0.00</td>\n",
       "      <td>0.00</td>\n",
       "      <td>0.0</td>\n",
       "      <td>56703.60</td>\n",
       "      <td>0.0</td>\n",
       "      <td>585000.0</td>\n",
       "      <td>0.0</td>\n",
       "      <td>71</td>\n",
       "      <td>0</td>\n",
       "      <td>0.000000</td>\n",
       "      <td>0.00</td>\n",
       "      <td>4.595120</td>\n",
       "      <td>1</td>\n",
       "    </tr>\n",
       "    <tr>\n",
       "      <th>4960</th>\n",
       "      <td>10148</td>\n",
       "      <td>0.00</td>\n",
       "      <td>0.00</td>\n",
       "      <td>0.00</td>\n",
       "      <td>0.00</td>\n",
       "      <td>0.00</td>\n",
       "      <td>25000.0</td>\n",
       "      <td>5049.86</td>\n",
       "      <td>100.0</td>\n",
       "      <td>0.0</td>\n",
       "      <td>184300.0</td>\n",
       "      <td>83</td>\n",
       "      <td>0</td>\n",
       "      <td>0.000000</td>\n",
       "      <td>0.00</td>\n",
       "      <td>3.091042</td>\n",
       "      <td>1</td>\n",
       "    </tr>\n",
       "    <tr>\n",
       "      <th>4966</th>\n",
       "      <td>10155</td>\n",
       "      <td>723.00</td>\n",
       "      <td>59657.86</td>\n",
       "      <td>13541.85</td>\n",
       "      <td>0.00</td>\n",
       "      <td>0.00</td>\n",
       "      <td>0.0</td>\n",
       "      <td>132231.06</td>\n",
       "      <td>0.0</td>\n",
       "      <td>0.0</td>\n",
       "      <td>500.0</td>\n",
       "      <td>85</td>\n",
       "      <td>1</td>\n",
       "      <td>9.945445</td>\n",
       "      <td>20856.00</td>\n",
       "      <td>4.248495</td>\n",
       "      <td>1</td>\n",
       "    </tr>\n",
       "    <tr>\n",
       "      <th>4971</th>\n",
       "      <td>10163</td>\n",
       "      <td>2088.00</td>\n",
       "      <td>0.00</td>\n",
       "      <td>0.00</td>\n",
       "      <td>0.00</td>\n",
       "      <td>0.00</td>\n",
       "      <td>235500.0</td>\n",
       "      <td>140285.07</td>\n",
       "      <td>0.0</td>\n",
       "      <td>0.0</td>\n",
       "      <td>30000.0</td>\n",
       "      <td>89</td>\n",
       "      <td>0</td>\n",
       "      <td>0.000000</td>\n",
       "      <td>0.00</td>\n",
       "      <td>5.117994</td>\n",
       "      <td>1</td>\n",
       "    </tr>\n",
       "    <tr>\n",
       "      <th>4972</th>\n",
       "      <td>10164</td>\n",
       "      <td>0.00</td>\n",
       "      <td>0.00</td>\n",
       "      <td>0.00</td>\n",
       "      <td>0.00</td>\n",
       "      <td>0.00</td>\n",
       "      <td>0.0</td>\n",
       "      <td>90000.00</td>\n",
       "      <td>0.0</td>\n",
       "      <td>24300.0</td>\n",
       "      <td>47500.0</td>\n",
       "      <td>0</td>\n",
       "      <td>1</td>\n",
       "      <td>11.061194</td>\n",
       "      <td>63651.50</td>\n",
       "      <td>2.484907</td>\n",
       "      <td>1</td>\n",
       "    </tr>\n",
       "    <tr>\n",
       "      <th>4973</th>\n",
       "      <td>10166</td>\n",
       "      <td>0.00</td>\n",
       "      <td>0.00</td>\n",
       "      <td>0.00</td>\n",
       "      <td>0.00</td>\n",
       "      <td>0.00</td>\n",
       "      <td>220000.0</td>\n",
       "      <td>190339.40</td>\n",
       "      <td>0.0</td>\n",
       "      <td>0.0</td>\n",
       "      <td>25000.0</td>\n",
       "      <td>68</td>\n",
       "      <td>1</td>\n",
       "      <td>8.101981</td>\n",
       "      <td>3300.00</td>\n",
       "      <td>4.262680</td>\n",
       "      <td>1</td>\n",
       "    </tr>\n",
       "    <tr>\n",
       "      <th>4976</th>\n",
       "      <td>10169</td>\n",
       "      <td>2244.50</td>\n",
       "      <td>0.00</td>\n",
       "      <td>0.00</td>\n",
       "      <td>0.00</td>\n",
       "      <td>100.42</td>\n",
       "      <td>262700.0</td>\n",
       "      <td>253331.09</td>\n",
       "      <td>0.0</td>\n",
       "      <td>0.0</td>\n",
       "      <td>26000.0</td>\n",
       "      <td>74</td>\n",
       "      <td>0</td>\n",
       "      <td>0.000000</td>\n",
       "      <td>0.00</td>\n",
       "      <td>4.369448</td>\n",
       "      <td>1</td>\n",
       "    </tr>\n",
       "    <tr>\n",
       "      <th>4977</th>\n",
       "      <td>10170</td>\n",
       "      <td>0.00</td>\n",
       "      <td>0.00</td>\n",
       "      <td>0.00</td>\n",
       "      <td>0.00</td>\n",
       "      <td>0.00</td>\n",
       "      <td>146000.0</td>\n",
       "      <td>145851.00</td>\n",
       "      <td>0.0</td>\n",
       "      <td>0.0</td>\n",
       "      <td>9000.0</td>\n",
       "      <td>76</td>\n",
       "      <td>1</td>\n",
       "      <td>5.398163</td>\n",
       "      <td>220.00</td>\n",
       "      <td>3.761200</td>\n",
       "      <td>1</td>\n",
       "    </tr>\n",
       "    <tr>\n",
       "      <th>4981</th>\n",
       "      <td>10177</td>\n",
       "      <td>0.00</td>\n",
       "      <td>0.00</td>\n",
       "      <td>0.00</td>\n",
       "      <td>0.00</td>\n",
       "      <td>0.00</td>\n",
       "      <td>182500.0</td>\n",
       "      <td>159938.85</td>\n",
       "      <td>0.0</td>\n",
       "      <td>0.0</td>\n",
       "      <td>0.0</td>\n",
       "      <td>89</td>\n",
       "      <td>0</td>\n",
       "      <td>0.000000</td>\n",
       "      <td>0.00</td>\n",
       "      <td>4.744932</td>\n",
       "      <td>1</td>\n",
       "    </tr>\n",
       "    <tr>\n",
       "      <th>4983</th>\n",
       "      <td>10181</td>\n",
       "      <td>29.95</td>\n",
       "      <td>0.00</td>\n",
       "      <td>0.00</td>\n",
       "      <td>0.00</td>\n",
       "      <td>0.00</td>\n",
       "      <td>130850.0</td>\n",
       "      <td>192263.10</td>\n",
       "      <td>0.0</td>\n",
       "      <td>0.0</td>\n",
       "      <td>5500.0</td>\n",
       "      <td>89</td>\n",
       "      <td>0</td>\n",
       "      <td>0.000000</td>\n",
       "      <td>0.00</td>\n",
       "      <td>5.181784</td>\n",
       "      <td>1</td>\n",
       "    </tr>\n",
       "    <tr>\n",
       "      <th>4988</th>\n",
       "      <td>10190</td>\n",
       "      <td>0.00</td>\n",
       "      <td>0.00</td>\n",
       "      <td>0.00</td>\n",
       "      <td>0.00</td>\n",
       "      <td>0.00</td>\n",
       "      <td>0.0</td>\n",
       "      <td>1620.00</td>\n",
       "      <td>0.0</td>\n",
       "      <td>0.0</td>\n",
       "      <td>940000.0</td>\n",
       "      <td>0</td>\n",
       "      <td>0</td>\n",
       "      <td>0.000000</td>\n",
       "      <td>0.00</td>\n",
       "      <td>1.945910</td>\n",
       "      <td>1</td>\n",
       "    </tr>\n",
       "    <tr>\n",
       "      <th>4989</th>\n",
       "      <td>10192</td>\n",
       "      <td>240.00</td>\n",
       "      <td>0.00</td>\n",
       "      <td>0.00</td>\n",
       "      <td>0.00</td>\n",
       "      <td>0.00</td>\n",
       "      <td>230000.0</td>\n",
       "      <td>224740.82</td>\n",
       "      <td>0.0</td>\n",
       "      <td>0.0</td>\n",
       "      <td>15000.0</td>\n",
       "      <td>43</td>\n",
       "      <td>1</td>\n",
       "      <td>4.192378</td>\n",
       "      <td>65.18</td>\n",
       "      <td>3.218876</td>\n",
       "      <td>1</td>\n",
       "    </tr>\n",
       "    <tr>\n",
       "      <th>4991</th>\n",
       "      <td>10202</td>\n",
       "      <td>0.00</td>\n",
       "      <td>100000.00</td>\n",
       "      <td>0.00</td>\n",
       "      <td>0.00</td>\n",
       "      <td>0.00</td>\n",
       "      <td>0.0</td>\n",
       "      <td>280723.90</td>\n",
       "      <td>0.0</td>\n",
       "      <td>0.0</td>\n",
       "      <td>0.0</td>\n",
       "      <td>84</td>\n",
       "      <td>1</td>\n",
       "      <td>10.941748</td>\n",
       "      <td>56485.00</td>\n",
       "      <td>2.708050</td>\n",
       "      <td>1</td>\n",
       "    </tr>\n",
       "    <tr>\n",
       "      <th>4992</th>\n",
       "      <td>10203</td>\n",
       "      <td>0.00</td>\n",
       "      <td>3000.00</td>\n",
       "      <td>0.00</td>\n",
       "      <td>2621.21</td>\n",
       "      <td>0.00</td>\n",
       "      <td>0.0</td>\n",
       "      <td>151351.92</td>\n",
       "      <td>0.0</td>\n",
       "      <td>0.0</td>\n",
       "      <td>23000.0</td>\n",
       "      <td>89</td>\n",
       "      <td>0</td>\n",
       "      <td>0.000000</td>\n",
       "      <td>0.00</td>\n",
       "      <td>4.634729</td>\n",
       "      <td>1</td>\n",
       "    </tr>\n",
       "    <tr>\n",
       "      <th>4995</th>\n",
       "      <td>10210</td>\n",
       "      <td>0.00</td>\n",
       "      <td>0.00</td>\n",
       "      <td>81800.00</td>\n",
       "      <td>0.00</td>\n",
       "      <td>0.00</td>\n",
       "      <td>55000.0</td>\n",
       "      <td>70713.59</td>\n",
       "      <td>0.0</td>\n",
       "      <td>0.0</td>\n",
       "      <td>32000.0</td>\n",
       "      <td>87</td>\n",
       "      <td>1</td>\n",
       "      <td>9.330645</td>\n",
       "      <td>11277.40</td>\n",
       "      <td>4.744932</td>\n",
       "      <td>1</td>\n",
       "    </tr>\n",
       "    <tr>\n",
       "      <th>4997</th>\n",
       "      <td>10213</td>\n",
       "      <td>0.00</td>\n",
       "      <td>120000.00</td>\n",
       "      <td>0.00</td>\n",
       "      <td>0.00</td>\n",
       "      <td>0.00</td>\n",
       "      <td>214500.0</td>\n",
       "      <td>336887.58</td>\n",
       "      <td>0.0</td>\n",
       "      <td>6000.0</td>\n",
       "      <td>0.0</td>\n",
       "      <td>83</td>\n",
       "      <td>0</td>\n",
       "      <td>0.000000</td>\n",
       "      <td>0.00</td>\n",
       "      <td>4.317488</td>\n",
       "      <td>1</td>\n",
       "    </tr>\n",
       "    <tr>\n",
       "      <th>4998</th>\n",
       "      <td>10214</td>\n",
       "      <td>0.00</td>\n",
       "      <td>0.00</td>\n",
       "      <td>0.00</td>\n",
       "      <td>0.00</td>\n",
       "      <td>0.00</td>\n",
       "      <td>0.0</td>\n",
       "      <td>222137.42</td>\n",
       "      <td>0.0</td>\n",
       "      <td>0.0</td>\n",
       "      <td>0.0</td>\n",
       "      <td>92</td>\n",
       "      <td>0</td>\n",
       "      <td>0.000000</td>\n",
       "      <td>0.00</td>\n",
       "      <td>4.682131</td>\n",
       "      <td>1</td>\n",
       "    </tr>\n",
       "  </tbody>\n",
       "</table>\n",
       "<p>1163 rows × 17 columns</p>\n",
       "</div>"
      ],
      "text/plain": [
       "trx_category  cl_id  BACK_TRX     C2C_IN    C2C_OUT  CASH_ADV        CAT  \\\n",
       "1                 1      0.00       0.00       0.00      0.00       0.00   \n",
       "2                 5  13990.00       0.00   33878.38      0.00       0.00   \n",
       "3                 9      0.00  296950.00       0.00      0.00       0.00   \n",
       "4                10      0.00   10000.00   21692.90      0.00   37694.98   \n",
       "5                11      0.00       0.00       0.00      0.00       0.00   \n",
       "11               24      0.00    2000.00       0.00      0.00       0.00   \n",
       "21               42      0.00   67000.00       0.00      0.00       0.00   \n",
       "24               49      0.00   10000.00       0.00      0.00     600.00   \n",
       "25               50      0.00  130890.00       0.00      0.00       0.00   \n",
       "27               54   3231.00   52860.00       0.00      0.00       0.00   \n",
       "28               55      0.00       0.00       0.00      0.00       0.00   \n",
       "36               70      0.00       0.00  241000.00      0.00       0.00   \n",
       "38               74      0.00    2700.00       0.00      0.00  114000.00   \n",
       "41               78      0.00     130.00    2500.00      0.00       0.00   \n",
       "42               79   4000.00    1000.00       0.00      0.00  283344.39   \n",
       "44               82   1079.97       0.00     470.00      0.00       0.00   \n",
       "52               94      0.00       0.00       0.00      0.00       0.00   \n",
       "56              103      0.00   20000.00       0.00      0.00       0.00   \n",
       "57              104      0.00       0.00       0.00      0.00       0.00   \n",
       "58              106      0.00       0.00       0.00      0.00       0.00   \n",
       "62              113      0.00       0.00   75000.00      0.00       0.00   \n",
       "65              119   2147.00       0.00       0.00      0.00       0.00   \n",
       "69              129      0.00   14500.00       0.00      0.00  156400.00   \n",
       "73              136   1898.00       0.00       0.00      0.00       0.00   \n",
       "75              138  16359.00       0.00       0.00      0.00       0.00   \n",
       "81              148      0.00       0.00       0.00      0.00       0.00   \n",
       "82              149   4236.00   50000.00       0.00      0.00       0.00   \n",
       "89              163      0.00       0.00       0.00      0.00       0.00   \n",
       "97              183      0.00       0.00       0.00      0.00       0.00   \n",
       "101             190      0.00       0.00       0.00      0.00       0.00   \n",
       "...             ...       ...        ...        ...       ...        ...   \n",
       "4919          10069   6492.50   35130.02       0.00      0.00       0.00   \n",
       "4921          10077      0.00       0.00       0.00      0.00       0.00   \n",
       "4922          10078      0.00       0.00       0.00      0.00       0.00   \n",
       "4932          10093      0.00       0.00       0.00      0.00       0.00   \n",
       "4933          10095      0.00    1448.57       0.00      0.00       0.00   \n",
       "4935          10099      0.00   37138.00    4406.00      0.00      50.00   \n",
       "4937          10103      0.00       0.00       0.00      0.00       0.00   \n",
       "4938          10104      0.00   27550.00       0.00      0.00       0.00   \n",
       "4945          10114      0.00   75000.00       0.00      0.00       0.00   \n",
       "4951          10129      0.93       0.00       0.00      0.00       0.00   \n",
       "4953          10131      0.00   15000.00   12456.93      0.00       0.00   \n",
       "4954          10133      0.00   24588.84       0.00      0.00       0.00   \n",
       "4956          10137      0.00    1500.00       0.00      0.00       0.00   \n",
       "4957          10138      0.00       0.00       0.00      0.00       0.00   \n",
       "4960          10148      0.00       0.00       0.00      0.00       0.00   \n",
       "4966          10155    723.00   59657.86   13541.85      0.00       0.00   \n",
       "4971          10163   2088.00       0.00       0.00      0.00       0.00   \n",
       "4972          10164      0.00       0.00       0.00      0.00       0.00   \n",
       "4973          10166      0.00       0.00       0.00      0.00       0.00   \n",
       "4976          10169   2244.50       0.00       0.00      0.00     100.42   \n",
       "4977          10170      0.00       0.00       0.00      0.00       0.00   \n",
       "4981          10177      0.00       0.00       0.00      0.00       0.00   \n",
       "4983          10181     29.95       0.00       0.00      0.00       0.00   \n",
       "4988          10190      0.00       0.00       0.00      0.00       0.00   \n",
       "4989          10192    240.00       0.00       0.00      0.00       0.00   \n",
       "4991          10202      0.00  100000.00       0.00      0.00       0.00   \n",
       "4992          10203      0.00    3000.00       0.00   2621.21       0.00   \n",
       "4995          10210      0.00       0.00   81800.00      0.00       0.00   \n",
       "4997          10213      0.00  120000.00       0.00      0.00       0.00   \n",
       "4998          10214      0.00       0.00       0.00      0.00       0.00   \n",
       "\n",
       "trx_category   DEPOSIT        POS  WD_ATM_OTHER  WD_ATM_PARTNER  WD_ATM_ROS  \\\n",
       "1              95000.0  122578.04           0.0             0.0     50000.0   \n",
       "2             130000.0  290500.75        5500.0          6000.0     66500.0   \n",
       "3               5000.0   12365.09           0.0        100000.0    435000.0   \n",
       "4             426300.0  200956.11           0.0          5400.0    422300.0   \n",
       "5             182000.0  245747.14           0.0             0.0         0.0   \n",
       "11             53000.0   58185.76           0.0             0.0         0.0   \n",
       "21             77500.0  244584.90           0.0         37100.0    251800.0   \n",
       "24            125000.0  186232.94           0.0             0.0         0.0   \n",
       "25                 0.0  136218.91           0.0             0.0         0.0   \n",
       "27             27500.0   91698.16           0.0             0.0         0.0   \n",
       "28             80328.0  272124.82           0.0             0.0         0.0   \n",
       "36             65000.0    6105.31      308200.0        225000.0    812400.0   \n",
       "38            299050.0  159134.85           0.0             0.0     33700.0   \n",
       "41            235000.0  280581.88        7670.0          5000.0     95000.0   \n",
       "42            231000.0  144769.37           0.0             0.0      2000.0   \n",
       "44            263600.0  124250.94       59000.0             0.0    202900.0   \n",
       "52                 0.0    6129.00           0.0             0.0         0.0   \n",
       "56                 0.0  207783.42           0.0         12500.0      3000.0   \n",
       "57                 0.0   27132.90           0.0             0.0     46000.0   \n",
       "58             60000.0    5900.00           0.0             0.0         0.0   \n",
       "62                 0.0   65751.55        2000.0             0.0    100000.0   \n",
       "65            499000.0  106188.70       13500.0         21000.0     54000.0   \n",
       "69            158300.0    1538.30           0.0             0.0         0.0   \n",
       "73            154250.0  155534.44           0.0             0.0       100.0   \n",
       "75                 0.0  315255.07           0.0         57500.0     62500.0   \n",
       "81            380000.0    1319.50           0.0             0.0         0.0   \n",
       "82            330000.0  495246.58           0.0             0.0    103000.0   \n",
       "89                 0.0    2234.36           0.0             0.0         0.0   \n",
       "97                 0.0  137256.57           0.0             0.0    620000.0   \n",
       "101                0.0    3200.00           0.0             0.0         0.0   \n",
       "...                ...        ...           ...             ...         ...   \n",
       "4919          219000.0  206088.07           0.0             0.0     40000.0   \n",
       "4921           15000.0  143381.00           0.0             0.0      9900.0   \n",
       "4922           15350.0   20106.24           0.0             0.0    130000.0   \n",
       "4932           17000.0   24657.41           0.0             0.0   1997000.0   \n",
       "4933               0.0  143535.91           0.0             0.0         0.0   \n",
       "4935           16500.0   47756.05           0.0          1500.0         0.0   \n",
       "4937             100.0       9.90           0.0             0.0     85300.0   \n",
       "4938               0.0   12329.21           0.0             0.0     22000.0   \n",
       "4945            5000.0    1410.00           0.0        297000.0    198000.0   \n",
       "4951          175000.0  210328.07           0.0             0.0     35000.0   \n",
       "4953           95000.0  172385.07           0.0             0.0         0.0   \n",
       "4954           16500.0  173520.28           0.0             0.0         0.0   \n",
       "4956          119000.0  133480.21           0.0             0.0         0.0   \n",
       "4957               0.0   56703.60           0.0        585000.0         0.0   \n",
       "4960           25000.0    5049.86         100.0             0.0    184300.0   \n",
       "4966               0.0  132231.06           0.0             0.0       500.0   \n",
       "4971          235500.0  140285.07           0.0             0.0     30000.0   \n",
       "4972               0.0   90000.00           0.0         24300.0     47500.0   \n",
       "4973          220000.0  190339.40           0.0             0.0     25000.0   \n",
       "4976          262700.0  253331.09           0.0             0.0     26000.0   \n",
       "4977          146000.0  145851.00           0.0             0.0      9000.0   \n",
       "4981          182500.0  159938.85           0.0             0.0         0.0   \n",
       "4983          130850.0  192263.10           0.0             0.0      5500.0   \n",
       "4988               0.0    1620.00           0.0             0.0    940000.0   \n",
       "4989          230000.0  224740.82           0.0             0.0     15000.0   \n",
       "4991               0.0  280723.90           0.0             0.0         0.0   \n",
       "4992               0.0  151351.92           0.0             0.0     23000.0   \n",
       "4995           55000.0   70713.59           0.0             0.0     32000.0   \n",
       "4997          214500.0  336887.58           0.0          6000.0         0.0   \n",
       "4998               0.0  222137.42           0.0             0.0         0.0   \n",
       "\n",
       "trx_category  useDays  target_flag  log_target_sum  target_sum  use_count  \\\n",
       "1                  92            0        0.000000        0.00   4.653960   \n",
       "2                  92            1       12.695305   326211.75   4.962845   \n",
       "3                  89            0        0.000000        0.00   3.688879   \n",
       "4                  89            0        0.000000        0.00   6.139885   \n",
       "5                  91            0        0.000000        0.00   5.384495   \n",
       "11                 61            1        7.140168     1260.64   2.484907   \n",
       "21                 92            0        0.000000        0.00   5.533389   \n",
       "24                 88            0        0.000000        0.00   4.510860   \n",
       "25                 83            1       11.219807    74592.37   3.871201   \n",
       "27                 69            0        0.000000        0.00   5.123964   \n",
       "28                 88            0        0.000000        0.00   4.795791   \n",
       "36                 53            1        7.060476     1164.00   4.488636   \n",
       "38                 80            1       11.591908   108217.55   4.962845   \n",
       "41                 90            1       11.561152   104939.84   4.574711   \n",
       "42                 87            0        0.000000        0.00   4.382027   \n",
       "44                 92            0        0.000000        0.00   4.584967   \n",
       "52                  4            1       11.805413   133974.63   1.386294   \n",
       "56                 82            0        0.000000        0.00   5.056246   \n",
       "57                 27            1        8.201797     3646.50   2.564949   \n",
       "58                  0            1       11.109931    66830.55   1.945910   \n",
       "62                 61            0        0.000000        0.00   2.639057   \n",
       "65                 87            0        0.000000        0.00   3.784190   \n",
       "69                 44            1        7.774116     2377.24   2.995732   \n",
       "73                 83            1        6.398595      600.00   5.141664   \n",
       "75                 84            0        0.000000        0.00   4.204693   \n",
       "81                  0            1       12.403347   243614.55   1.791759   \n",
       "82                 72            0        0.000000        0.00   4.356709   \n",
       "89                 13            1        9.755730    17251.80   3.295837   \n",
       "97                 91            0        0.000000        0.00   5.288267   \n",
       "101                54            0        0.000000        0.00   1.098612   \n",
       "...               ...          ...             ...         ...        ...   \n",
       "4919               89            1        5.056246      156.00   5.361292   \n",
       "4921               50            1       11.134866    68518.00   2.708050   \n",
       "4922               76            0        0.000000        0.00   3.891820   \n",
       "4932               33            1        9.104344     8993.28   3.970292   \n",
       "4933               66            0        0.000000        0.00   3.332205   \n",
       "4935               85            1        8.562253     5229.45   4.343805   \n",
       "4937                0            0        0.000000        0.00   1.945910   \n",
       "4938               92            0        0.000000        0.00   4.007333   \n",
       "4945                0            1        5.707110      300.00   2.708050   \n",
       "4951               90            1       11.417374    90886.14   4.919981   \n",
       "4953               86            0        0.000000        0.00   5.164786   \n",
       "4954               73            1       11.192142    72557.00   3.828641   \n",
       "4956               90            0        0.000000        0.00   4.753590   \n",
       "4957               71            0        0.000000        0.00   4.595120   \n",
       "4960               83            0        0.000000        0.00   3.091042   \n",
       "4966               85            1        9.945445    20856.00   4.248495   \n",
       "4971               89            0        0.000000        0.00   5.117994   \n",
       "4972                0            1       11.061194    63651.50   2.484907   \n",
       "4973               68            1        8.101981     3300.00   4.262680   \n",
       "4976               74            0        0.000000        0.00   4.369448   \n",
       "4977               76            1        5.398163      220.00   3.761200   \n",
       "4981               89            0        0.000000        0.00   4.744932   \n",
       "4983               89            0        0.000000        0.00   5.181784   \n",
       "4988                0            0        0.000000        0.00   1.945910   \n",
       "4989               43            1        4.192378       65.18   3.218876   \n",
       "4991               84            1       10.941748    56485.00   2.708050   \n",
       "4992               89            0        0.000000        0.00   4.634729   \n",
       "4995               87            1        9.330645    11277.40   4.744932   \n",
       "4997               83            0        0.000000        0.00   4.317488   \n",
       "4998               92            0        0.000000        0.00   4.682131   \n",
       "\n",
       "trx_category  missClass  \n",
       "1                     1  \n",
       "2                     1  \n",
       "3                     1  \n",
       "4                     1  \n",
       "5                     1  \n",
       "11                    1  \n",
       "21                    1  \n",
       "24                    1  \n",
       "25                    1  \n",
       "27                    1  \n",
       "28                    1  \n",
       "36                    1  \n",
       "38                    1  \n",
       "41                    1  \n",
       "42                    1  \n",
       "44                    1  \n",
       "52                    1  \n",
       "56                    1  \n",
       "57                    1  \n",
       "58                    1  \n",
       "62                    1  \n",
       "65                    1  \n",
       "69                    1  \n",
       "73                    1  \n",
       "75                    1  \n",
       "81                    1  \n",
       "82                    1  \n",
       "89                    1  \n",
       "97                    1  \n",
       "101                   1  \n",
       "...                 ...  \n",
       "4919                  1  \n",
       "4921                  1  \n",
       "4922                  1  \n",
       "4932                  1  \n",
       "4933                  1  \n",
       "4935                  1  \n",
       "4937                  1  \n",
       "4938                  1  \n",
       "4945                  1  \n",
       "4951                  1  \n",
       "4953                  1  \n",
       "4954                  1  \n",
       "4956                  1  \n",
       "4957                  1  \n",
       "4960                  1  \n",
       "4966                  1  \n",
       "4971                  1  \n",
       "4972                  1  \n",
       "4973                  1  \n",
       "4976                  1  \n",
       "4977                  1  \n",
       "4981                  1  \n",
       "4983                  1  \n",
       "4988                  1  \n",
       "4989                  1  \n",
       "4991                  1  \n",
       "4992                  1  \n",
       "4995                  1  \n",
       "4997                  1  \n",
       "4998                  1  \n",
       "\n",
       "[1163 rows x 17 columns]"
      ]
     },
     "execution_count": 48,
     "metadata": {},
     "output_type": "execute_result"
    }
   ],
   "source": [
    "new_train[new_train.missClass == 1]"
   ]
  },
  {
   "cell_type": "code",
   "execution_count": 42,
   "metadata": {},
   "outputs": [
    {
     "data": {
      "text/plain": [
       "XGBClassifier(base_score=0.5, booster='gbtree', colsample_bylevel=1,\n",
       "       colsample_bytree=1, gamma=0, learning_rate=0.05, max_delta_step=0,\n",
       "       max_depth=2, min_child_weight=1, missing=None, n_estimators=200,\n",
       "       n_jobs=1, nthread=None, objective='binary:logistic', random_state=0,\n",
       "       reg_alpha=0, reg_lambda=1, scale_pos_weight=1, seed=None,\n",
       "       silent=True, subsample=1)"
      ]
     },
     "execution_count": 42,
     "metadata": {},
     "output_type": "execute_result"
    }
   ],
   "source": [
    "xgbClassifier.fit(X, new_train.target_flag)"
   ]
  },
  {
   "cell_type": "code",
   "execution_count": 43,
   "metadata": {},
   "outputs": [
    {
     "data": {
      "text/html": [
       "<div>\n",
       "<style>\n",
       "    .dataframe thead tr:only-child th {\n",
       "        text-align: right;\n",
       "    }\n",
       "\n",
       "    .dataframe thead th {\n",
       "        text-align: left;\n",
       "    }\n",
       "\n",
       "    .dataframe tbody tr th {\n",
       "        vertical-align: top;\n",
       "    }\n",
       "</style>\n",
       "<table border=\"1\" class=\"dataframe\">\n",
       "  <thead>\n",
       "    <tr>\n",
       "      <th></th>\n",
       "      <th>cl_id</th>\n",
       "      <th colspan=\"10\" halign=\"left\">amount</th>\n",
       "      <th>useDay</th>\n",
       "    </tr>\n",
       "    <tr>\n",
       "      <th>trx_category</th>\n",
       "      <th></th>\n",
       "      <th>BACK_TRX</th>\n",
       "      <th>C2C_IN</th>\n",
       "      <th>C2C_OUT</th>\n",
       "      <th>CASH_ADV</th>\n",
       "      <th>CAT</th>\n",
       "      <th>DEPOSIT</th>\n",
       "      <th>POS</th>\n",
       "      <th>WD_ATM_OTHER</th>\n",
       "      <th>WD_ATM_PARTNER</th>\n",
       "      <th>WD_ATM_ROS</th>\n",
       "      <th></th>\n",
       "    </tr>\n",
       "  </thead>\n",
       "  <tbody>\n",
       "    <tr>\n",
       "      <th>0</th>\n",
       "      <td>0</td>\n",
       "      <td>0.0</td>\n",
       "      <td>0.0</td>\n",
       "      <td>36562.00</td>\n",
       "      <td>0.0</td>\n",
       "      <td>0.00</td>\n",
       "      <td>20000.0</td>\n",
       "      <td>7821.00</td>\n",
       "      <td>0.0</td>\n",
       "      <td>0.0</td>\n",
       "      <td>0.0</td>\n",
       "      <td>3.828641</td>\n",
       "    </tr>\n",
       "    <tr>\n",
       "      <th>1</th>\n",
       "      <td>1</td>\n",
       "      <td>0.0</td>\n",
       "      <td>0.0</td>\n",
       "      <td>0.00</td>\n",
       "      <td>0.0</td>\n",
       "      <td>0.00</td>\n",
       "      <td>95000.0</td>\n",
       "      <td>122578.04</td>\n",
       "      <td>0.0</td>\n",
       "      <td>0.0</td>\n",
       "      <td>50000.0</td>\n",
       "      <td>4.532599</td>\n",
       "    </tr>\n",
       "    <tr>\n",
       "      <th>2</th>\n",
       "      <td>5</td>\n",
       "      <td>13990.0</td>\n",
       "      <td>0.0</td>\n",
       "      <td>33878.38</td>\n",
       "      <td>0.0</td>\n",
       "      <td>0.00</td>\n",
       "      <td>130000.0</td>\n",
       "      <td>290500.75</td>\n",
       "      <td>5500.0</td>\n",
       "      <td>6000.0</td>\n",
       "      <td>66500.0</td>\n",
       "      <td>4.532599</td>\n",
       "    </tr>\n",
       "    <tr>\n",
       "      <th>3</th>\n",
       "      <td>9</td>\n",
       "      <td>0.0</td>\n",
       "      <td>296950.0</td>\n",
       "      <td>0.00</td>\n",
       "      <td>0.0</td>\n",
       "      <td>0.00</td>\n",
       "      <td>5000.0</td>\n",
       "      <td>12365.09</td>\n",
       "      <td>0.0</td>\n",
       "      <td>100000.0</td>\n",
       "      <td>435000.0</td>\n",
       "      <td>4.499810</td>\n",
       "    </tr>\n",
       "    <tr>\n",
       "      <th>4</th>\n",
       "      <td>10</td>\n",
       "      <td>0.0</td>\n",
       "      <td>10000.0</td>\n",
       "      <td>21692.90</td>\n",
       "      <td>0.0</td>\n",
       "      <td>37694.98</td>\n",
       "      <td>426300.0</td>\n",
       "      <td>200956.11</td>\n",
       "      <td>0.0</td>\n",
       "      <td>5400.0</td>\n",
       "      <td>422300.0</td>\n",
       "      <td>4.499810</td>\n",
       "    </tr>\n",
       "  </tbody>\n",
       "</table>\n",
       "</div>"
      ],
      "text/plain": [
       "             cl_id   amount                                                   \\\n",
       "trx_category       BACK_TRX    C2C_IN   C2C_OUT CASH_ADV       CAT   DEPOSIT   \n",
       "0                0      0.0       0.0  36562.00      0.0      0.00   20000.0   \n",
       "1                1      0.0       0.0      0.00      0.0      0.00   95000.0   \n",
       "2                5  13990.0       0.0  33878.38      0.0      0.00  130000.0   \n",
       "3                9      0.0  296950.0      0.00      0.0      0.00    5000.0   \n",
       "4               10      0.0   10000.0  21692.90      0.0  37694.98  426300.0   \n",
       "\n",
       "                                                                  useDay  \n",
       "trx_category        POS WD_ATM_OTHER WD_ATM_PARTNER WD_ATM_ROS            \n",
       "0               7821.00          0.0            0.0        0.0  3.828641  \n",
       "1             122578.04          0.0            0.0    50000.0  4.532599  \n",
       "2             290500.75       5500.0         6000.0    66500.0  4.532599  \n",
       "3              12365.09          0.0       100000.0   435000.0  4.499810  \n",
       "4             200956.11          0.0         5400.0   422300.0  4.499810  "
      ]
     },
     "execution_count": 43,
     "metadata": {},
     "output_type": "execute_result"
    }
   ],
   "source": [
    "X.head()"
   ]
  },
  {
   "cell_type": "code",
   "execution_count": 44,
   "metadata": {},
   "outputs": [
    {
     "data": {
      "text/plain": [
       "array([0.24573378, 0.01877133, 0.01023891, 0.00341297, 0.        ,\n",
       "       0.01535836, 0.1450512 , 0.1569966 , 0.05290102, 0.06484642,\n",
       "       0.06825939, 0.21843003], dtype=float32)"
      ]
     },
     "execution_count": 44,
     "metadata": {},
     "output_type": "execute_result"
    }
   ],
   "source": [
    "xgbClassifier.feature_importances_"
   ]
  },
  {
   "cell_type": "code",
   "execution_count": 533,
   "metadata": {},
   "outputs": [
    {
     "name": "stderr",
     "output_type": "stream",
     "text": [
      "/usr/local/lib/python3.5/dist-packages/ipykernel_launcher.py:1: SettingWithCopyWarning: \n",
      "A value is trying to be set on a copy of a slice from a DataFrame.\n",
      "Try using .loc[row_indexer,col_indexer] = value instead\n",
      "\n",
      "See the caveats in the documentation: http://pandas.pydata.org/pandas-docs/stable/indexing.html#indexing-view-versus-copy\n",
      "  \"\"\"Entry point for launching an IPython kernel.\n"
     ]
    }
   ],
   "source": [
    "test_target[\"target_flag\"] = xgbClassifier.predict_proba(new_test)[:, 1]"
   ]
  },
  {
   "cell_type": "code",
   "execution_count": 536,
   "metadata": {},
   "outputs": [],
   "source": [
    "test_target[\"target_flag\"] = xgbClassifier.predict_proba(new_test)[:, 1]\n",
    "d = dict(test_target.set_index(\"cl_id\")[\"target_flag\"])\n",
    "\n",
    "test[\"target_flag\"] = test.cl_id.apply(lambda x: d[x])\n",
    "\n",
    "test[[\"cl_id\", \"target_flag\"]].to_csv(\"task1.csv\", index=False)"
   ]
  },
  {
   "cell_type": "code",
   "execution_count": 789,
   "metadata": {},
   "outputs": [],
   "source": [
    "xgbRegressor = xgb.XGBRegressor(max_depth=2, n_estimators=200, learning_rate=0.05)"
   ]
  },
  {
   "cell_type": "code",
   "execution_count": 66,
   "metadata": {},
   "outputs": [
    {
     "data": {
      "text/plain": [
       "4.066983322199202"
      ]
     },
     "execution_count": 66,
     "metadata": {},
     "output_type": "execute_result"
    }
   ],
   "source": [
    "kfold = KFold(n_splits=4, shuffle=True, random_state=5)\n",
    "cross_val_score(xgbRegressor, X, new_train.log_target_sum, scoring=RMSLEScorer, cv=kfold).mean()"
   ]
  },
  {
   "cell_type": "code",
   "execution_count": 46,
   "metadata": {},
   "outputs": [
    {
     "data": {
      "text/plain": [
       "XGBRegressor(base_score=0.5, booster='gbtree', colsample_bylevel=1,\n",
       "       colsample_bytree=1, gamma=0, learning_rate=0.07, max_delta_step=0,\n",
       "       max_depth=1, min_child_weight=1, missing=None, n_estimators=200,\n",
       "       n_jobs=1, nthread=None, objective='reg:linear', random_state=0,\n",
       "       reg_alpha=0, reg_lambda=1, scale_pos_weight=1, seed=None,\n",
       "       silent=True, subsample=1)"
      ]
     },
     "execution_count": 46,
     "metadata": {},
     "output_type": "execute_result"
    }
   ],
   "source": [
    "xgbRegressor.fit(X, new_train.log_target_sum)"
   ]
  },
  {
   "cell_type": "code",
   "execution_count": 52,
   "metadata": {},
   "outputs": [
    {
     "data": {
      "text/html": [
       "<div>\n",
       "<style>\n",
       "    .dataframe thead tr:only-child th {\n",
       "        text-align: right;\n",
       "    }\n",
       "\n",
       "    .dataframe thead th {\n",
       "        text-align: left;\n",
       "    }\n",
       "\n",
       "    .dataframe tbody tr th {\n",
       "        vertical-align: top;\n",
       "    }\n",
       "</style>\n",
       "<table border=\"1\" class=\"dataframe\">\n",
       "  <thead>\n",
       "    <tr>\n",
       "      <th></th>\n",
       "      <th>cl_id</th>\n",
       "      <th colspan=\"10\" halign=\"left\">amount</th>\n",
       "      <th>use_count</th>\n",
       "      <th>useDay</th>\n",
       "    </tr>\n",
       "    <tr>\n",
       "      <th>trx_category</th>\n",
       "      <th></th>\n",
       "      <th>BACK_TRX</th>\n",
       "      <th>C2C_IN</th>\n",
       "      <th>C2C_OUT</th>\n",
       "      <th>CASH_ADV</th>\n",
       "      <th>CAT</th>\n",
       "      <th>DEPOSIT</th>\n",
       "      <th>POS</th>\n",
       "      <th>WD_ATM_OTHER</th>\n",
       "      <th>WD_ATM_PARTNER</th>\n",
       "      <th>WD_ATM_ROS</th>\n",
       "      <th></th>\n",
       "      <th></th>\n",
       "    </tr>\n",
       "  </thead>\n",
       "  <tbody>\n",
       "    <tr>\n",
       "      <th>0</th>\n",
       "      <td>0</td>\n",
       "      <td>0.00000</td>\n",
       "      <td>0.000000</td>\n",
       "      <td>10.506792</td>\n",
       "      <td>0.0</td>\n",
       "      <td>0.000000</td>\n",
       "      <td>9.903538</td>\n",
       "      <td>8.964696</td>\n",
       "      <td>0.000000</td>\n",
       "      <td>0.000000</td>\n",
       "      <td>0.000000</td>\n",
       "      <td>1.791759</td>\n",
       "      <td>3.828641</td>\n",
       "    </tr>\n",
       "    <tr>\n",
       "      <th>1</th>\n",
       "      <td>1</td>\n",
       "      <td>0.00000</td>\n",
       "      <td>0.000000</td>\n",
       "      <td>0.000000</td>\n",
       "      <td>0.0</td>\n",
       "      <td>0.000000</td>\n",
       "      <td>11.461643</td>\n",
       "      <td>11.716511</td>\n",
       "      <td>0.000000</td>\n",
       "      <td>0.000000</td>\n",
       "      <td>10.819798</td>\n",
       "      <td>4.653960</td>\n",
       "      <td>4.532599</td>\n",
       "    </tr>\n",
       "    <tr>\n",
       "      <th>2</th>\n",
       "      <td>5</td>\n",
       "      <td>9.54617</td>\n",
       "      <td>0.000000</td>\n",
       "      <td>10.430562</td>\n",
       "      <td>0.0</td>\n",
       "      <td>0.000000</td>\n",
       "      <td>11.775297</td>\n",
       "      <td>12.579365</td>\n",
       "      <td>8.612685</td>\n",
       "      <td>8.699681</td>\n",
       "      <td>11.104972</td>\n",
       "      <td>4.962845</td>\n",
       "      <td>4.532599</td>\n",
       "    </tr>\n",
       "    <tr>\n",
       "      <th>3</th>\n",
       "      <td>9</td>\n",
       "      <td>0.00000</td>\n",
       "      <td>12.601322</td>\n",
       "      <td>0.000000</td>\n",
       "      <td>0.0</td>\n",
       "      <td>0.000000</td>\n",
       "      <td>8.517393</td>\n",
       "      <td>9.422713</td>\n",
       "      <td>0.000000</td>\n",
       "      <td>11.512935</td>\n",
       "      <td>12.983104</td>\n",
       "      <td>3.688879</td>\n",
       "      <td>4.499810</td>\n",
       "    </tr>\n",
       "    <tr>\n",
       "      <th>4</th>\n",
       "      <td>10</td>\n",
       "      <td>0.00000</td>\n",
       "      <td>9.210440</td>\n",
       "      <td>9.984786</td>\n",
       "      <td>0.0</td>\n",
       "      <td>10.537309</td>\n",
       "      <td>12.962901</td>\n",
       "      <td>12.210847</td>\n",
       "      <td>0.000000</td>\n",
       "      <td>8.594339</td>\n",
       "      <td>12.953474</td>\n",
       "      <td>6.139885</td>\n",
       "      <td>4.499810</td>\n",
       "    </tr>\n",
       "  </tbody>\n",
       "</table>\n",
       "</div>"
      ],
      "text/plain": [
       "             cl_id   amount                                            \\\n",
       "trx_category       BACK_TRX     C2C_IN    C2C_OUT CASH_ADV        CAT   \n",
       "0                0  0.00000   0.000000  10.506792      0.0   0.000000   \n",
       "1                1  0.00000   0.000000   0.000000      0.0   0.000000   \n",
       "2                5  9.54617   0.000000  10.430562      0.0   0.000000   \n",
       "3                9  0.00000  12.601322   0.000000      0.0   0.000000   \n",
       "4               10  0.00000   9.210440   9.984786      0.0  10.537309   \n",
       "\n",
       "                                                                           \\\n",
       "trx_category    DEPOSIT        POS WD_ATM_OTHER WD_ATM_PARTNER WD_ATM_ROS   \n",
       "0              9.903538   8.964696     0.000000       0.000000   0.000000   \n",
       "1             11.461643  11.716511     0.000000       0.000000  10.819798   \n",
       "2             11.775297  12.579365     8.612685       8.699681  11.104972   \n",
       "3              8.517393   9.422713     0.000000      11.512935  12.983104   \n",
       "4             12.962901  12.210847     0.000000       8.594339  12.953474   \n",
       "\n",
       "             use_count    useDay  \n",
       "trx_category                      \n",
       "0             1.791759  3.828641  \n",
       "1             4.653960  4.532599  \n",
       "2             4.962845  4.532599  \n",
       "3             3.688879  4.499810  \n",
       "4             6.139885  4.499810  "
      ]
     },
     "execution_count": 52,
     "metadata": {},
     "output_type": "execute_result"
    }
   ],
   "source": [
    "X.head()"
   ]
  },
  {
   "cell_type": "code",
   "execution_count": 47,
   "metadata": {},
   "outputs": [
    {
     "data": {
      "text/plain": [
       "array([0.215, 0.   , 0.   , 0.   , 0.   , 0.02 , 0.215, 0.165, 0.045,\n",
       "       0.005, 0.05 , 0.065, 0.22 ], dtype=float32)"
      ]
     },
     "execution_count": 47,
     "metadata": {},
     "output_type": "execute_result"
    }
   ],
   "source": [
    "xgbRegressor.feature_importances_"
   ]
  },
  {
   "cell_type": "code",
   "execution_count": 60,
   "metadata": {},
   "outputs": [],
   "source": [
    "mcc_group = train.groupby(\"cl_id\")[\"MCC\"].value_counts().unstack().fillna(0).reset_index(drop=True)"
   ]
  },
  {
   "cell_type": "code",
   "execution_count": 61,
   "metadata": {},
   "outputs": [],
   "source": [
    "tmp = pd.concat((mcc_group, new_train.log_target_sum), axis=1).corr()[\"log_target_sum\"]"
   ]
  },
  {
   "cell_type": "code",
   "execution_count": 85,
   "metadata": {},
   "outputs": [],
   "source": [
    "lr = LogisticRegression(random_state = 7)"
   ]
  },
  {
   "cell_type": "code",
   "execution_count": 388,
   "metadata": {},
   "outputs": [
    {
     "data": {
      "text/plain": [
       "0.7191464282360902"
      ]
     },
     "execution_count": 388,
     "metadata": {},
     "output_type": "execute_result"
    }
   ],
   "source": [
    "cross_val_score(lr, X, new_train.target_flag, scoring=\"roc_auc\", cv=kfold).mean()"
   ]
  },
  {
   "cell_type": "markdown",
   "metadata": {},
   "source": [
    "# Regression"
   ]
  },
  {
   "cell_type": "code",
   "execution_count": 121,
   "metadata": {},
   "outputs": [],
   "source": [
    "from sklearn.ensemble import RandomForestRegressor"
   ]
  },
  {
   "cell_type": "code",
   "execution_count": 111,
   "metadata": {},
   "outputs": [],
   "source": [
    "kfold = KFold(n_splits=4, shuffle=True, random_state=5)"
   ]
  },
  {
   "cell_type": "code",
   "execution_count": 112,
   "metadata": {},
   "outputs": [],
   "source": [
    "xgbRegressor = xgb.XGBRegressor(max_depth=4, n_estimators=100, learning_rate=0.05)"
   ]
  },
  {
   "cell_type": "code",
   "execution_count": 113,
   "metadata": {},
   "outputs": [
    {
     "data": {
      "text/plain": [
       "4.114457756279269"
      ]
     },
     "execution_count": 113,
     "metadata": {},
     "output_type": "execute_result"
    }
   ],
   "source": [
    "cross_val_score(xgbRegressor, X, new_train.log_target_sum, scoring=RMSLEScorer, cv=kfold).mean()"
   ]
  },
  {
   "cell_type": "code",
   "execution_count": 367,
   "metadata": {},
   "outputs": [],
   "source": [
    "rf = RandomForestRegressor(n_estimators=100, max_depth=7, random_state=5)"
   ]
  },
  {
   "cell_type": "code",
   "execution_count": 368,
   "metadata": {},
   "outputs": [
    {
     "data": {
      "text/plain": [
       "4.091978456338062"
      ]
     },
     "execution_count": 368,
     "metadata": {},
     "output_type": "execute_result"
    }
   ],
   "source": [
    "cross_val_score(rf, X, new_train.log_target_sum, scoring=RMSLEScorer, cv=kfold).mean()"
   ]
  },
  {
   "cell_type": "code",
   "execution_count": 615,
   "metadata": {},
   "outputs": [
    {
     "name": "stdout",
     "output_type": "stream",
     "text": [
      "n_ests = 50, depth = 2, lr = 0.05;\t cv = 4.224896508054849\n",
      "n_ests = 50, depth = 2, lr = 0.1;\t cv = 4.131707559998192\n",
      "n_ests = 50, depth = 3, lr = 0.05;\t cv = 4.177922210770539\n",
      "n_ests = 50, depth = 3, lr = 0.1;\t cv = 4.112384183526117\n",
      "n_ests = 50, depth = 4, lr = 0.05;\t cv = 4.146253973042538\n",
      "n_ests = 50, depth = 4, lr = 0.1;\t cv = 4.105731995594203\n",
      "n_ests = 50, depth = 5, lr = 0.05;\t cv = 4.145504465284223\n",
      "n_ests = 50, depth = 5, lr = 0.1;\t cv = 4.120623746008002\n",
      "n_ests = 100, depth = 2, lr = 0.05;\t cv = 4.1310014768737915\n",
      "n_ests = 100, depth = 2, lr = 0.1;\t cv = 4.122719480363231\n",
      "n_ests = 100, depth = 3, lr = 0.05;\t cv = 4.114157361547825\n",
      "n_ests = 100, depth = 3, lr = 0.1;\t cv = 4.112797266807089\n",
      "n_ests = 100, depth = 4, lr = 0.05;\t cv = 4.100595303727764\n",
      "n_ests = 100, depth = 4, lr = 0.1;\t cv = 4.119506217502025\n",
      "n_ests = 100, depth = 5, lr = 0.05;\t cv = 4.11323161117544\n",
      "n_ests = 100, depth = 5, lr = 0.1;\t cv = 4.153988216288215\n",
      "n_ests = 150, depth = 2, lr = 0.05;\t cv = 4.124696590537388\n"
     ]
    },
    {
     "ename": "KeyboardInterrupt",
     "evalue": "",
     "output_type": "error",
     "traceback": [
      "\u001b[0;31m---------------------------------------------------------------------------\u001b[0m",
      "\u001b[0;31mKeyboardInterrupt\u001b[0m                         Traceback (most recent call last)",
      "\u001b[0;32m<ipython-input-615-51407dce3e6c>\u001b[0m in \u001b[0;36m<module>\u001b[0;34m()\u001b[0m\n\u001b[1;32m      8\u001b[0m             \u001b[0mxgbRegressor\u001b[0m \u001b[0;34m=\u001b[0m \u001b[0mxgb\u001b[0m\u001b[0;34m.\u001b[0m\u001b[0mXGBRegressor\u001b[0m\u001b[0;34m(\u001b[0m\u001b[0mmax_depth\u001b[0m\u001b[0;34m=\u001b[0m\u001b[0mdepth\u001b[0m\u001b[0;34m,\u001b[0m \u001b[0mn_estimators\u001b[0m\u001b[0;34m=\u001b[0m\u001b[0mn_est\u001b[0m\u001b[0;34m,\u001b[0m \u001b[0mlearning_rate\u001b[0m\u001b[0;34m=\u001b[0m\u001b[0mlr\u001b[0m\u001b[0;34m)\u001b[0m\u001b[0;34m\u001b[0m\u001b[0m\n\u001b[1;32m      9\u001b[0m             cv = cross_val_score(xgbRegressor, X, new_train.log_target_sum, \n\u001b[0;32m---> 10\u001b[0;31m                                  scoring=RMSLEScorer, cv=kfold).mean()\n\u001b[0m\u001b[1;32m     11\u001b[0m \u001b[0;34m\u001b[0m\u001b[0m\n\u001b[1;32m     12\u001b[0m             \u001b[0mprint\u001b[0m\u001b[0;34m(\u001b[0m\u001b[0;34m\"n_ests = {}, depth = {}, lr = {};\\t cv = {}\"\u001b[0m\u001b[0;34m.\u001b[0m\u001b[0mformat\u001b[0m\u001b[0;34m(\u001b[0m\u001b[0mn_est\u001b[0m\u001b[0;34m,\u001b[0m \u001b[0mdepth\u001b[0m\u001b[0;34m,\u001b[0m \u001b[0mlr\u001b[0m\u001b[0;34m,\u001b[0m \u001b[0mcv\u001b[0m\u001b[0;34m)\u001b[0m\u001b[0;34m)\u001b[0m\u001b[0;34m\u001b[0m\u001b[0m\n",
      "\u001b[0;32m~/.local/lib/python3.5/site-packages/sklearn/model_selection/_validation.py\u001b[0m in \u001b[0;36mcross_val_score\u001b[0;34m(estimator, X, y, groups, scoring, cv, n_jobs, verbose, fit_params, pre_dispatch)\u001b[0m\n\u001b[1;32m    340\u001b[0m                                 \u001b[0mn_jobs\u001b[0m\u001b[0;34m=\u001b[0m\u001b[0mn_jobs\u001b[0m\u001b[0;34m,\u001b[0m \u001b[0mverbose\u001b[0m\u001b[0;34m=\u001b[0m\u001b[0mverbose\u001b[0m\u001b[0;34m,\u001b[0m\u001b[0;34m\u001b[0m\u001b[0m\n\u001b[1;32m    341\u001b[0m                                 \u001b[0mfit_params\u001b[0m\u001b[0;34m=\u001b[0m\u001b[0mfit_params\u001b[0m\u001b[0;34m,\u001b[0m\u001b[0;34m\u001b[0m\u001b[0m\n\u001b[0;32m--> 342\u001b[0;31m                                 pre_dispatch=pre_dispatch)\n\u001b[0m\u001b[1;32m    343\u001b[0m     \u001b[0;32mreturn\u001b[0m \u001b[0mcv_results\u001b[0m\u001b[0;34m[\u001b[0m\u001b[0;34m'test_score'\u001b[0m\u001b[0;34m]\u001b[0m\u001b[0;34m\u001b[0m\u001b[0m\n\u001b[1;32m    344\u001b[0m \u001b[0;34m\u001b[0m\u001b[0m\n",
      "\u001b[0;32m~/.local/lib/python3.5/site-packages/sklearn/model_selection/_validation.py\u001b[0m in \u001b[0;36mcross_validate\u001b[0;34m(estimator, X, y, groups, scoring, cv, n_jobs, verbose, fit_params, pre_dispatch, return_train_score)\u001b[0m\n\u001b[1;32m    204\u001b[0m             \u001b[0mfit_params\u001b[0m\u001b[0;34m,\u001b[0m \u001b[0mreturn_train_score\u001b[0m\u001b[0;34m=\u001b[0m\u001b[0mreturn_train_score\u001b[0m\u001b[0;34m,\u001b[0m\u001b[0;34m\u001b[0m\u001b[0m\n\u001b[1;32m    205\u001b[0m             return_times=True)\n\u001b[0;32m--> 206\u001b[0;31m         for train, test in cv.split(X, y, groups))\n\u001b[0m\u001b[1;32m    207\u001b[0m \u001b[0;34m\u001b[0m\u001b[0m\n\u001b[1;32m    208\u001b[0m     \u001b[0;32mif\u001b[0m \u001b[0mreturn_train_score\u001b[0m\u001b[0;34m:\u001b[0m\u001b[0;34m\u001b[0m\u001b[0m\n",
      "\u001b[0;32m~/.local/lib/python3.5/site-packages/sklearn/externals/joblib/parallel.py\u001b[0m in \u001b[0;36m__call__\u001b[0;34m(self, iterable)\u001b[0m\n\u001b[1;32m    777\u001b[0m             \u001b[0;31m# was dispatched. In particular this covers the edge\u001b[0m\u001b[0;34m\u001b[0m\u001b[0;34m\u001b[0m\u001b[0m\n\u001b[1;32m    778\u001b[0m             \u001b[0;31m# case of Parallel used with an exhausted iterator.\u001b[0m\u001b[0;34m\u001b[0m\u001b[0;34m\u001b[0m\u001b[0m\n\u001b[0;32m--> 779\u001b[0;31m             \u001b[0;32mwhile\u001b[0m \u001b[0mself\u001b[0m\u001b[0;34m.\u001b[0m\u001b[0mdispatch_one_batch\u001b[0m\u001b[0;34m(\u001b[0m\u001b[0miterator\u001b[0m\u001b[0;34m)\u001b[0m\u001b[0;34m:\u001b[0m\u001b[0;34m\u001b[0m\u001b[0m\n\u001b[0m\u001b[1;32m    780\u001b[0m                 \u001b[0mself\u001b[0m\u001b[0;34m.\u001b[0m\u001b[0m_iterating\u001b[0m \u001b[0;34m=\u001b[0m \u001b[0;32mTrue\u001b[0m\u001b[0;34m\u001b[0m\u001b[0m\n\u001b[1;32m    781\u001b[0m             \u001b[0;32melse\u001b[0m\u001b[0;34m:\u001b[0m\u001b[0;34m\u001b[0m\u001b[0m\n",
      "\u001b[0;32m~/.local/lib/python3.5/site-packages/sklearn/externals/joblib/parallel.py\u001b[0m in \u001b[0;36mdispatch_one_batch\u001b[0;34m(self, iterator)\u001b[0m\n\u001b[1;32m    623\u001b[0m                 \u001b[0;32mreturn\u001b[0m \u001b[0;32mFalse\u001b[0m\u001b[0;34m\u001b[0m\u001b[0m\n\u001b[1;32m    624\u001b[0m             \u001b[0;32melse\u001b[0m\u001b[0;34m:\u001b[0m\u001b[0;34m\u001b[0m\u001b[0m\n\u001b[0;32m--> 625\u001b[0;31m                 \u001b[0mself\u001b[0m\u001b[0;34m.\u001b[0m\u001b[0m_dispatch\u001b[0m\u001b[0;34m(\u001b[0m\u001b[0mtasks\u001b[0m\u001b[0;34m)\u001b[0m\u001b[0;34m\u001b[0m\u001b[0m\n\u001b[0m\u001b[1;32m    626\u001b[0m                 \u001b[0;32mreturn\u001b[0m \u001b[0;32mTrue\u001b[0m\u001b[0;34m\u001b[0m\u001b[0m\n\u001b[1;32m    627\u001b[0m \u001b[0;34m\u001b[0m\u001b[0m\n",
      "\u001b[0;32m~/.local/lib/python3.5/site-packages/sklearn/externals/joblib/parallel.py\u001b[0m in \u001b[0;36m_dispatch\u001b[0;34m(self, batch)\u001b[0m\n\u001b[1;32m    586\u001b[0m         \u001b[0mdispatch_timestamp\u001b[0m \u001b[0;34m=\u001b[0m \u001b[0mtime\u001b[0m\u001b[0;34m.\u001b[0m\u001b[0mtime\u001b[0m\u001b[0;34m(\u001b[0m\u001b[0;34m)\u001b[0m\u001b[0;34m\u001b[0m\u001b[0m\n\u001b[1;32m    587\u001b[0m         \u001b[0mcb\u001b[0m \u001b[0;34m=\u001b[0m \u001b[0mBatchCompletionCallBack\u001b[0m\u001b[0;34m(\u001b[0m\u001b[0mdispatch_timestamp\u001b[0m\u001b[0;34m,\u001b[0m \u001b[0mlen\u001b[0m\u001b[0;34m(\u001b[0m\u001b[0mbatch\u001b[0m\u001b[0;34m)\u001b[0m\u001b[0;34m,\u001b[0m \u001b[0mself\u001b[0m\u001b[0;34m)\u001b[0m\u001b[0;34m\u001b[0m\u001b[0m\n\u001b[0;32m--> 588\u001b[0;31m         \u001b[0mjob\u001b[0m \u001b[0;34m=\u001b[0m \u001b[0mself\u001b[0m\u001b[0;34m.\u001b[0m\u001b[0m_backend\u001b[0m\u001b[0;34m.\u001b[0m\u001b[0mapply_async\u001b[0m\u001b[0;34m(\u001b[0m\u001b[0mbatch\u001b[0m\u001b[0;34m,\u001b[0m \u001b[0mcallback\u001b[0m\u001b[0;34m=\u001b[0m\u001b[0mcb\u001b[0m\u001b[0;34m)\u001b[0m\u001b[0;34m\u001b[0m\u001b[0m\n\u001b[0m\u001b[1;32m    589\u001b[0m         \u001b[0mself\u001b[0m\u001b[0;34m.\u001b[0m\u001b[0m_jobs\u001b[0m\u001b[0;34m.\u001b[0m\u001b[0mappend\u001b[0m\u001b[0;34m(\u001b[0m\u001b[0mjob\u001b[0m\u001b[0;34m)\u001b[0m\u001b[0;34m\u001b[0m\u001b[0m\n\u001b[1;32m    590\u001b[0m \u001b[0;34m\u001b[0m\u001b[0m\n",
      "\u001b[0;32m~/.local/lib/python3.5/site-packages/sklearn/externals/joblib/_parallel_backends.py\u001b[0m in \u001b[0;36mapply_async\u001b[0;34m(self, func, callback)\u001b[0m\n\u001b[1;32m    109\u001b[0m     \u001b[0;32mdef\u001b[0m \u001b[0mapply_async\u001b[0m\u001b[0;34m(\u001b[0m\u001b[0mself\u001b[0m\u001b[0;34m,\u001b[0m \u001b[0mfunc\u001b[0m\u001b[0;34m,\u001b[0m \u001b[0mcallback\u001b[0m\u001b[0;34m=\u001b[0m\u001b[0;32mNone\u001b[0m\u001b[0;34m)\u001b[0m\u001b[0;34m:\u001b[0m\u001b[0;34m\u001b[0m\u001b[0m\n\u001b[1;32m    110\u001b[0m         \u001b[0;34m\"\"\"Schedule a func to be run\"\"\"\u001b[0m\u001b[0;34m\u001b[0m\u001b[0m\n\u001b[0;32m--> 111\u001b[0;31m         \u001b[0mresult\u001b[0m \u001b[0;34m=\u001b[0m \u001b[0mImmediateResult\u001b[0m\u001b[0;34m(\u001b[0m\u001b[0mfunc\u001b[0m\u001b[0;34m)\u001b[0m\u001b[0;34m\u001b[0m\u001b[0m\n\u001b[0m\u001b[1;32m    112\u001b[0m         \u001b[0;32mif\u001b[0m \u001b[0mcallback\u001b[0m\u001b[0;34m:\u001b[0m\u001b[0;34m\u001b[0m\u001b[0m\n\u001b[1;32m    113\u001b[0m             \u001b[0mcallback\u001b[0m\u001b[0;34m(\u001b[0m\u001b[0mresult\u001b[0m\u001b[0;34m)\u001b[0m\u001b[0;34m\u001b[0m\u001b[0m\n",
      "\u001b[0;32m~/.local/lib/python3.5/site-packages/sklearn/externals/joblib/_parallel_backends.py\u001b[0m in \u001b[0;36m__init__\u001b[0;34m(self, batch)\u001b[0m\n\u001b[1;32m    330\u001b[0m         \u001b[0;31m# Don't delay the application, to avoid keeping the input\u001b[0m\u001b[0;34m\u001b[0m\u001b[0;34m\u001b[0m\u001b[0m\n\u001b[1;32m    331\u001b[0m         \u001b[0;31m# arguments in memory\u001b[0m\u001b[0;34m\u001b[0m\u001b[0;34m\u001b[0m\u001b[0m\n\u001b[0;32m--> 332\u001b[0;31m         \u001b[0mself\u001b[0m\u001b[0;34m.\u001b[0m\u001b[0mresults\u001b[0m \u001b[0;34m=\u001b[0m \u001b[0mbatch\u001b[0m\u001b[0;34m(\u001b[0m\u001b[0;34m)\u001b[0m\u001b[0;34m\u001b[0m\u001b[0m\n\u001b[0m\u001b[1;32m    333\u001b[0m \u001b[0;34m\u001b[0m\u001b[0m\n\u001b[1;32m    334\u001b[0m     \u001b[0;32mdef\u001b[0m \u001b[0mget\u001b[0m\u001b[0;34m(\u001b[0m\u001b[0mself\u001b[0m\u001b[0;34m)\u001b[0m\u001b[0;34m:\u001b[0m\u001b[0;34m\u001b[0m\u001b[0m\n",
      "\u001b[0;32m~/.local/lib/python3.5/site-packages/sklearn/externals/joblib/parallel.py\u001b[0m in \u001b[0;36m__call__\u001b[0;34m(self)\u001b[0m\n\u001b[1;32m    129\u001b[0m \u001b[0;34m\u001b[0m\u001b[0m\n\u001b[1;32m    130\u001b[0m     \u001b[0;32mdef\u001b[0m \u001b[0m__call__\u001b[0m\u001b[0;34m(\u001b[0m\u001b[0mself\u001b[0m\u001b[0;34m)\u001b[0m\u001b[0;34m:\u001b[0m\u001b[0;34m\u001b[0m\u001b[0m\n\u001b[0;32m--> 131\u001b[0;31m         \u001b[0;32mreturn\u001b[0m \u001b[0;34m[\u001b[0m\u001b[0mfunc\u001b[0m\u001b[0;34m(\u001b[0m\u001b[0;34m*\u001b[0m\u001b[0margs\u001b[0m\u001b[0;34m,\u001b[0m \u001b[0;34m**\u001b[0m\u001b[0mkwargs\u001b[0m\u001b[0;34m)\u001b[0m \u001b[0;32mfor\u001b[0m \u001b[0mfunc\u001b[0m\u001b[0;34m,\u001b[0m \u001b[0margs\u001b[0m\u001b[0;34m,\u001b[0m \u001b[0mkwargs\u001b[0m \u001b[0;32min\u001b[0m \u001b[0mself\u001b[0m\u001b[0;34m.\u001b[0m\u001b[0mitems\u001b[0m\u001b[0;34m]\u001b[0m\u001b[0;34m\u001b[0m\u001b[0m\n\u001b[0m\u001b[1;32m    132\u001b[0m \u001b[0;34m\u001b[0m\u001b[0m\n\u001b[1;32m    133\u001b[0m     \u001b[0;32mdef\u001b[0m \u001b[0m__len__\u001b[0m\u001b[0;34m(\u001b[0m\u001b[0mself\u001b[0m\u001b[0;34m)\u001b[0m\u001b[0;34m:\u001b[0m\u001b[0;34m\u001b[0m\u001b[0m\n",
      "\u001b[0;32m~/.local/lib/python3.5/site-packages/sklearn/externals/joblib/parallel.py\u001b[0m in \u001b[0;36m<listcomp>\u001b[0;34m(.0)\u001b[0m\n\u001b[1;32m    129\u001b[0m \u001b[0;34m\u001b[0m\u001b[0m\n\u001b[1;32m    130\u001b[0m     \u001b[0;32mdef\u001b[0m \u001b[0m__call__\u001b[0m\u001b[0;34m(\u001b[0m\u001b[0mself\u001b[0m\u001b[0;34m)\u001b[0m\u001b[0;34m:\u001b[0m\u001b[0;34m\u001b[0m\u001b[0m\n\u001b[0;32m--> 131\u001b[0;31m         \u001b[0;32mreturn\u001b[0m \u001b[0;34m[\u001b[0m\u001b[0mfunc\u001b[0m\u001b[0;34m(\u001b[0m\u001b[0;34m*\u001b[0m\u001b[0margs\u001b[0m\u001b[0;34m,\u001b[0m \u001b[0;34m**\u001b[0m\u001b[0mkwargs\u001b[0m\u001b[0;34m)\u001b[0m \u001b[0;32mfor\u001b[0m \u001b[0mfunc\u001b[0m\u001b[0;34m,\u001b[0m \u001b[0margs\u001b[0m\u001b[0;34m,\u001b[0m \u001b[0mkwargs\u001b[0m \u001b[0;32min\u001b[0m \u001b[0mself\u001b[0m\u001b[0;34m.\u001b[0m\u001b[0mitems\u001b[0m\u001b[0;34m]\u001b[0m\u001b[0;34m\u001b[0m\u001b[0m\n\u001b[0m\u001b[1;32m    132\u001b[0m \u001b[0;34m\u001b[0m\u001b[0m\n\u001b[1;32m    133\u001b[0m     \u001b[0;32mdef\u001b[0m \u001b[0m__len__\u001b[0m\u001b[0;34m(\u001b[0m\u001b[0mself\u001b[0m\u001b[0;34m)\u001b[0m\u001b[0;34m:\u001b[0m\u001b[0;34m\u001b[0m\u001b[0m\n",
      "\u001b[0;32m~/.local/lib/python3.5/site-packages/sklearn/model_selection/_validation.py\u001b[0m in \u001b[0;36m_fit_and_score\u001b[0;34m(estimator, X, y, scorer, train, test, verbose, parameters, fit_params, return_train_score, return_parameters, return_n_test_samples, return_times, error_score)\u001b[0m\n\u001b[1;32m    456\u001b[0m             \u001b[0mestimator\u001b[0m\u001b[0;34m.\u001b[0m\u001b[0mfit\u001b[0m\u001b[0;34m(\u001b[0m\u001b[0mX_train\u001b[0m\u001b[0;34m,\u001b[0m \u001b[0;34m**\u001b[0m\u001b[0mfit_params\u001b[0m\u001b[0;34m)\u001b[0m\u001b[0;34m\u001b[0m\u001b[0m\n\u001b[1;32m    457\u001b[0m         \u001b[0;32melse\u001b[0m\u001b[0;34m:\u001b[0m\u001b[0;34m\u001b[0m\u001b[0m\n\u001b[0;32m--> 458\u001b[0;31m             \u001b[0mestimator\u001b[0m\u001b[0;34m.\u001b[0m\u001b[0mfit\u001b[0m\u001b[0;34m(\u001b[0m\u001b[0mX_train\u001b[0m\u001b[0;34m,\u001b[0m \u001b[0my_train\u001b[0m\u001b[0;34m,\u001b[0m \u001b[0;34m**\u001b[0m\u001b[0mfit_params\u001b[0m\u001b[0;34m)\u001b[0m\u001b[0;34m\u001b[0m\u001b[0m\n\u001b[0m\u001b[1;32m    459\u001b[0m \u001b[0;34m\u001b[0m\u001b[0m\n\u001b[1;32m    460\u001b[0m     \u001b[0;32mexcept\u001b[0m \u001b[0mException\u001b[0m \u001b[0;32mas\u001b[0m \u001b[0me\u001b[0m\u001b[0;34m:\u001b[0m\u001b[0;34m\u001b[0m\u001b[0m\n",
      "\u001b[0;32m~/.local/lib/python3.5/site-packages/xgboost/sklearn.py\u001b[0m in \u001b[0;36mfit\u001b[0;34m(self, X, y, sample_weight, eval_set, eval_metric, early_stopping_rounds, verbose, xgb_model)\u001b[0m\n\u001b[1;32m    291\u001b[0m                               \u001b[0mearly_stopping_rounds\u001b[0m\u001b[0;34m=\u001b[0m\u001b[0mearly_stopping_rounds\u001b[0m\u001b[0;34m,\u001b[0m\u001b[0;34m\u001b[0m\u001b[0m\n\u001b[1;32m    292\u001b[0m                               \u001b[0mevals_result\u001b[0m\u001b[0;34m=\u001b[0m\u001b[0mevals_result\u001b[0m\u001b[0;34m,\u001b[0m \u001b[0mobj\u001b[0m\u001b[0;34m=\u001b[0m\u001b[0mobj\u001b[0m\u001b[0;34m,\u001b[0m \u001b[0mfeval\u001b[0m\u001b[0;34m=\u001b[0m\u001b[0mfeval\u001b[0m\u001b[0;34m,\u001b[0m\u001b[0;34m\u001b[0m\u001b[0m\n\u001b[0;32m--> 293\u001b[0;31m                               verbose_eval=verbose, xgb_model=xgb_model)\n\u001b[0m\u001b[1;32m    294\u001b[0m \u001b[0;34m\u001b[0m\u001b[0m\n\u001b[1;32m    295\u001b[0m         \u001b[0;32mif\u001b[0m \u001b[0mevals_result\u001b[0m\u001b[0;34m:\u001b[0m\u001b[0;34m\u001b[0m\u001b[0m\n",
      "\u001b[0;32m~/.local/lib/python3.5/site-packages/xgboost/training.py\u001b[0m in \u001b[0;36mtrain\u001b[0;34m(params, dtrain, num_boost_round, evals, obj, feval, maximize, early_stopping_rounds, evals_result, verbose_eval, xgb_model, callbacks, learning_rates)\u001b[0m\n\u001b[1;32m    202\u001b[0m                            \u001b[0mevals\u001b[0m\u001b[0;34m=\u001b[0m\u001b[0mevals\u001b[0m\u001b[0;34m,\u001b[0m\u001b[0;34m\u001b[0m\u001b[0m\n\u001b[1;32m    203\u001b[0m                            \u001b[0mobj\u001b[0m\u001b[0;34m=\u001b[0m\u001b[0mobj\u001b[0m\u001b[0;34m,\u001b[0m \u001b[0mfeval\u001b[0m\u001b[0;34m=\u001b[0m\u001b[0mfeval\u001b[0m\u001b[0;34m,\u001b[0m\u001b[0;34m\u001b[0m\u001b[0m\n\u001b[0;32m--> 204\u001b[0;31m                            xgb_model=xgb_model, callbacks=callbacks)\n\u001b[0m\u001b[1;32m    205\u001b[0m \u001b[0;34m\u001b[0m\u001b[0m\n\u001b[1;32m    206\u001b[0m \u001b[0;34m\u001b[0m\u001b[0m\n",
      "\u001b[0;32m~/.local/lib/python3.5/site-packages/xgboost/training.py\u001b[0m in \u001b[0;36m_train_internal\u001b[0;34m(params, dtrain, num_boost_round, evals, obj, feval, xgb_model, callbacks)\u001b[0m\n\u001b[1;32m     72\u001b[0m         \u001b[0;31m# Skip the first update if it is a recovery step.\u001b[0m\u001b[0;34m\u001b[0m\u001b[0;34m\u001b[0m\u001b[0m\n\u001b[1;32m     73\u001b[0m         \u001b[0;32mif\u001b[0m \u001b[0mversion\u001b[0m \u001b[0;34m%\u001b[0m \u001b[0;36m2\u001b[0m \u001b[0;34m==\u001b[0m \u001b[0;36m0\u001b[0m\u001b[0;34m:\u001b[0m\u001b[0;34m\u001b[0m\u001b[0m\n\u001b[0;32m---> 74\u001b[0;31m             \u001b[0mbst\u001b[0m\u001b[0;34m.\u001b[0m\u001b[0mupdate\u001b[0m\u001b[0;34m(\u001b[0m\u001b[0mdtrain\u001b[0m\u001b[0;34m,\u001b[0m \u001b[0mi\u001b[0m\u001b[0;34m,\u001b[0m \u001b[0mobj\u001b[0m\u001b[0;34m)\u001b[0m\u001b[0;34m\u001b[0m\u001b[0m\n\u001b[0m\u001b[1;32m     75\u001b[0m             \u001b[0mbst\u001b[0m\u001b[0;34m.\u001b[0m\u001b[0msave_rabit_checkpoint\u001b[0m\u001b[0;34m(\u001b[0m\u001b[0;34m)\u001b[0m\u001b[0;34m\u001b[0m\u001b[0m\n\u001b[1;32m     76\u001b[0m             \u001b[0mversion\u001b[0m \u001b[0;34m+=\u001b[0m \u001b[0;36m1\u001b[0m\u001b[0;34m\u001b[0m\u001b[0m\n",
      "\u001b[0;32m~/.local/lib/python3.5/site-packages/xgboost/core.py\u001b[0m in \u001b[0;36mupdate\u001b[0;34m(self, dtrain, iteration, fobj)\u001b[0m\n\u001b[1;32m    893\u001b[0m         \u001b[0;32mif\u001b[0m \u001b[0mfobj\u001b[0m \u001b[0;32mis\u001b[0m \u001b[0;32mNone\u001b[0m\u001b[0;34m:\u001b[0m\u001b[0;34m\u001b[0m\u001b[0m\n\u001b[1;32m    894\u001b[0m             _check_call(_LIB.XGBoosterUpdateOneIter(self.handle, ctypes.c_int(iteration),\n\u001b[0;32m--> 895\u001b[0;31m                                                     dtrain.handle))\n\u001b[0m\u001b[1;32m    896\u001b[0m         \u001b[0;32melse\u001b[0m\u001b[0;34m:\u001b[0m\u001b[0;34m\u001b[0m\u001b[0m\n\u001b[1;32m    897\u001b[0m             \u001b[0mpred\u001b[0m \u001b[0;34m=\u001b[0m \u001b[0mself\u001b[0m\u001b[0;34m.\u001b[0m\u001b[0mpredict\u001b[0m\u001b[0;34m(\u001b[0m\u001b[0mdtrain\u001b[0m\u001b[0;34m)\u001b[0m\u001b[0;34m\u001b[0m\u001b[0m\n",
      "\u001b[0;31mKeyboardInterrupt\u001b[0m: "
     ]
    }
   ],
   "source": [
    "n_ests = [50, 100, 150, 200]\n",
    "depths = [2, 3, 4, 5]\n",
    "lrs = [0.05, 0.1]\n",
    "\n",
    "for n_est in n_ests:\n",
    "    for depth in depths:\n",
    "        for lr in lrs:\n",
    "            xgbRegressor = xgb.XGBRegressor(max_depth=depth, n_estimators=n_est, learning_rate=lr)\n",
    "            cv = cross_val_score(xgbRegressor, X, new_train.log_target_sum, \n",
    "                                 scoring=RMSLEScorer, cv=kfold).mean()\n",
    "\n",
    "            print(\"n_ests = {}, depth = {}, lr = {};\\t cv = {}\".format(n_est, depth, lr, cv))"
   ]
  },
  {
   "cell_type": "code",
   "execution_count": 369,
   "metadata": {},
   "outputs": [
    {
     "data": {
      "text/plain": [
       "RandomForestRegressor(bootstrap=True, criterion='mse', max_depth=7,\n",
       "           max_features='auto', max_leaf_nodes=None,\n",
       "           min_impurity_decrease=0.0, min_impurity_split=None,\n",
       "           min_samples_leaf=1, min_samples_split=2,\n",
       "           min_weight_fraction_leaf=0.0, n_estimators=100, n_jobs=1,\n",
       "           oob_score=False, random_state=5, verbose=0, warm_start=False)"
      ]
     },
     "execution_count": 369,
     "metadata": {},
     "output_type": "execute_result"
    }
   ],
   "source": [
    "rf.fit(X, new_train.log_target_sum)"
   ]
  },
  {
   "cell_type": "code",
   "execution_count": 370,
   "metadata": {},
   "outputs": [],
   "source": [
    "pred = np.maximum(0, np.exp(rf.predict(new_test)) - 1)"
   ]
  },
  {
   "cell_type": "code",
   "execution_count": 371,
   "metadata": {},
   "outputs": [
    {
     "data": {
      "text/plain": [
       "(5217,)"
      ]
     },
     "execution_count": 371,
     "metadata": {},
     "output_type": "execute_result"
    }
   ],
   "source": [
    "pred.shape"
   ]
  },
  {
   "cell_type": "code",
   "execution_count": 372,
   "metadata": {},
   "outputs": [
    {
     "name": "stderr",
     "output_type": "stream",
     "text": [
      "/usr/local/lib/python3.5/dist-packages/ipykernel_launcher.py:1: SettingWithCopyWarning: \n",
      "A value is trying to be set on a copy of a slice from a DataFrame.\n",
      "Try using .loc[row_indexer,col_indexer] = value instead\n",
      "\n",
      "See the caveats in the documentation: http://pandas.pydata.org/pandas-docs/stable/indexing.html#indexing-view-versus-copy\n",
      "  \"\"\"Entry point for launching an IPython kernel.\n"
     ]
    }
   ],
   "source": [
    "test_target[\"target_sum\"] = pred"
   ]
  },
  {
   "cell_type": "code",
   "execution_count": 373,
   "metadata": {},
   "outputs": [],
   "source": [
    "d = dict(test_target.set_index(\"cl_id\")[\"target_sum\"])\n",
    "\n",
    "test[\"target_sum\"] = test.cl_id.apply(lambda x: d[x])\n",
    "\n",
    "test[[\"cl_id\", \"target_sum\"]].to_csv(\"task2_.csv\", index=False)"
   ]
  },
  {
   "cell_type": "code",
   "execution_count": null,
   "metadata": {},
   "outputs": [],
   "source": []
  }
 ],
 "metadata": {
  "kernelspec": {
   "display_name": "Python 3",
   "language": "python",
   "name": "python3"
  },
  "language_info": {
   "codemirror_mode": {
    "name": "ipython",
    "version": 3
   },
   "file_extension": ".py",
   "mimetype": "text/x-python",
   "name": "python",
   "nbconvert_exporter": "python",
   "pygments_lexer": "ipython3",
   "version": "3.5.3"
  }
 },
 "nbformat": 4,
 "nbformat_minor": 2
}
